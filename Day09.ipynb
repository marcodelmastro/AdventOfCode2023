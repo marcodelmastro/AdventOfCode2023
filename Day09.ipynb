{
 "cells": [
  {
   "cell_type": "markdown",
   "id": "1d842971",
   "metadata": {},
   "source": [
    "## Day 9\n",
    "\n",
    "https://adventofcode.com/2023/day/9"
   ]
  },
  {
   "cell_type": "code",
   "execution_count": 28,
   "id": "26cde1be",
   "metadata": {},
   "outputs": [],
   "source": [
    "import numpy as np\n",
    "\n",
    "def readInput09(infile):\n",
    "    with open(infile) as f:\n",
    "        series = [[int(n) for n in l.split() ] for l in f.readlines()]\n",
    "        return series\n",
    "\n",
    "def extrapolate(serie):\n",
    "    s = np.array(serie)\n",
    "    r = []\n",
    "    while True:\n",
    "        d = np.diff(s)\n",
    "        if not np.any(d):\n",
    "            break\n",
    "        r.append(d[-1])\n",
    "        s = d\n",
    "    return serie[-1]+sum(r)\n",
    "\n",
    "def part1(infile):\n",
    "    series = readInput09(infile)\n",
    "    return sum([extrapolate(s) for s in series])"
   ]
  },
  {
   "cell_type": "code",
   "execution_count": 29,
   "id": "6ba224bd",
   "metadata": {},
   "outputs": [
    {
     "name": "stdout",
     "output_type": "stream",
     "text": [
      "Test 1: 114\n",
      "Part 1: 1798691765\n"
     ]
    }
   ],
   "source": [
    "print(\"Test 1:\",part1(\"examples/example09.txt\"))\n",
    "print(\"Part 1:\",part1(\"AOC2023inputs/input09.txt\"))"
   ]
  },
  {
   "cell_type": "code",
   "execution_count": 46,
   "id": "9f7fe51b",
   "metadata": {},
   "outputs": [],
   "source": [
    "def extrapolate_backward(serie):\n",
    "    s = np.array(serie)\n",
    "    r = [s[0]]\n",
    "    while True:\n",
    "        d = np.diff(s)\n",
    "        if not np.any(d):\n",
    "            break\n",
    "        r.append(d[0])\n",
    "        s = d\n",
    "    i = 0\n",
    "    for b in r[::-1]:\n",
    "        i = b - i\n",
    "    return(i)\n",
    "    \n",
    "def part2(infile):\n",
    "    series = readInput09(infile)\n",
    "    return sum([extrapolate_backward(s) for s in series])"
   ]
  },
  {
   "cell_type": "code",
   "execution_count": 47,
   "id": "0a15b46b",
   "metadata": {},
   "outputs": [
    {
     "name": "stdout",
     "output_type": "stream",
     "text": [
      "Test 2: 2\n",
      "Part 2: 1104\n"
     ]
    }
   ],
   "source": [
    "print(\"Test 2:\",part2(\"examples/example09.txt\"))\n",
    "print(\"Part 2:\",part2(\"AOC2023inputs/input09.txt\"))"
   ]
  },
  {
   "cell_type": "code",
   "execution_count": null,
   "id": "a6a2a7ae",
   "metadata": {},
   "outputs": [],
   "source": []
  }
 ],
 "metadata": {
  "kernelspec": {
   "display_name": "Python 3 (ipykernel)",
   "language": "python",
   "name": "python3"
  },
  "language_info": {
   "codemirror_mode": {
    "name": "ipython",
    "version": 3
   },
   "file_extension": ".py",
   "mimetype": "text/x-python",
   "name": "python",
   "nbconvert_exporter": "python",
   "pygments_lexer": "ipython3",
   "version": "3.11.6"
  }
 },
 "nbformat": 4,
 "nbformat_minor": 5
}
