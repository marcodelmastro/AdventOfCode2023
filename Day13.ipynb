{
 "cells": [
  {
   "cell_type": "markdown",
   "id": "0672a7a7",
   "metadata": {},
   "source": [
    "## Day 13       \n",
    "\n",
    "https://adventofcode.com/2023/day/13"
   ]
  },
  {
   "cell_type": "code",
   "execution_count": 1,
   "id": "a95f8221",
   "metadata": {},
   "outputs": [],
   "source": [
    "import numpy as np\n",
    "\n",
    "def readInput13(infile):\n",
    "    with open(infile) as f:\n",
    "        return [ np.array(g) for g in [ [ list(l) for l in m.split(\"\\n\") ] for m in f.read().strip(\"\\n\").split(\"\\n\\n\") ] ] \n",
    "\n",
    "def search_reflection(m,ignore=-1):\n",
    "    # look for a potential horizontal line of reflection\n",
    "    i = -1\n",
    "    for i in range(len(m)-1):\n",
    "        if np.array_equal(m[i],m[i+1]):        \n",
    "            # check if surfaces are mirrored\n",
    "            top = m[:i+1]\n",
    "            bot = m[i+1:]\n",
    "            if len(top)<len(bot):\n",
    "                bot = bot[:len(top)]\n",
    "            elif len(bot)<len(top):\n",
    "                top = top[len(top)-len(bot):]\n",
    "            if np.array_equal(top, bot[::-1]):\n",
    "                if ignore==-1: # part 1\n",
    "                    return i\n",
    "                else: # part 2 (needs to ignore original reflection)\n",
    "                    if i!=ignore: \n",
    "                        return i\n",
    "    return -1\n",
    "\n",
    "def search_reflection_bothdirs(m,ignore=(-1,-1)):\n",
    "    # Part 2 needs to ingore original reflection when smudging elements in the non-reflected zone\n",
    "    ji,ii = ignore\n",
    "    # search for reflection over horizontal line\n",
    "    j = search_reflection(m,ignore=ji-1) # beware! reflection is saved in number of rows, not index!\n",
    "    if j!=-1:\n",
    "        return (j+1,0)\n",
    "    else:\n",
    "        # if not found, search for reflection over vertical line by rotating map\n",
    "        mrot = np.rot90(m,k=3)\n",
    "        i = search_reflection(mrot,ignore=ii-1) # beware! reflection is saved in number of columns, not index!\n",
    "        if i!=-1:\n",
    "            return (0,i+1)\n",
    "    return (0,0)\n",
    "\n",
    "def part1(infile):\n",
    "    maps = readInput13(infile)\n",
    "    refs = [ search_reflection_bothdirs(m) for m in maps ]\n",
    "    ctot, rtot = 0, 0\n",
    "    for c,r in refs:\n",
    "        ctot += c\n",
    "        rtot += r\n",
    "    return 100*ctot+rtot\n",
    "\n",
    "from copy import deepcopy\n",
    "\n",
    "flip = {\"#\": \".\", \".\": \"#\"}\n",
    "\n",
    "def search_reflection_smudge(m):\n",
    "    rold = search_reflection_bothdirs(m)\n",
    "    for j,l in enumerate(m):\n",
    "        for i,v in enumerate(l):\n",
    "            mnew = deepcopy(m)\n",
    "            mnew[j,i] = flip[v]\n",
    "            r = search_reflection_bothdirs(mnew,ignore=rold)\n",
    "            if r!=(0,0) and r!=(rold):\n",
    "                return r\n",
    "    return None\n",
    "            \n",
    "def part2(infile):\n",
    "    maps = readInput13(infile)\n",
    "    refs = [ search_reflection_smudge(m) for m in maps ]\n",
    "    ctot, rtot = 0, 0\n",
    "    for c,r in refs:\n",
    "        ctot += c\n",
    "        rtot += r\n",
    "    return 100*ctot+rtot"
   ]
  },
  {
   "cell_type": "code",
   "execution_count": 2,
   "id": "a5b44e4d",
   "metadata": {},
   "outputs": [
    {
     "name": "stdout",
     "output_type": "stream",
     "text": [
      "Test 1: 405\n",
      "Part 1: 30518\n"
     ]
    }
   ],
   "source": [
    "print(\"Test 1:\",part1(\"examples/example13.txt\"))\n",
    "print(\"Part 1:\",part1(\"AOC2023inputs/input13.txt\"))"
   ]
  },
  {
   "cell_type": "code",
   "execution_count": 3,
   "id": "c9239a6f",
   "metadata": {},
   "outputs": [
    {
     "name": "stdout",
     "output_type": "stream",
     "text": [
      "Test 2: 400\n",
      "Part 2: 36735\n"
     ]
    }
   ],
   "source": [
    "print(\"Test 2:\",part2(\"examples/example13.txt\"))\n",
    "print(\"Part 2:\",part2(\"AOC2023inputs/input13.txt\"))"
   ]
  },
  {
   "cell_type": "code",
   "execution_count": null,
   "id": "6b37f15e",
   "metadata": {},
   "outputs": [],
   "source": []
  }
 ],
 "metadata": {
  "kernelspec": {
   "display_name": "Python 3 (ipykernel)",
   "language": "python",
   "name": "python3"
  },
  "language_info": {
   "codemirror_mode": {
    "name": "ipython",
    "version": 3
   },
   "file_extension": ".py",
   "mimetype": "text/x-python",
   "name": "python",
   "nbconvert_exporter": "python",
   "pygments_lexer": "ipython3",
   "version": "3.11.6"
  }
 },
 "nbformat": 4,
 "nbformat_minor": 5
}
