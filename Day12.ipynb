{
 "cells": [
  {
   "cell_type": "code",
   "execution_count": 121,
   "id": "233b3ee9",
   "metadata": {},
   "outputs": [],
   "source": [
    "def readInput12(infile):\n",
    "    with open(infile) as f:\n",
    "        sources = []\n",
    "        for l in f.readlines():\n",
    "            e = l.strip(\"\\n\").split()\n",
    "            # save as tuples instead of list to avoid problem with recursion \n",
    "            sources.append( (e[0], tuple([int(n) for n in e[1].split(\",\")]) ) )\n",
    "        return sources"
   ]
  },
  {
   "cell_type": "markdown",
   "id": "4ded1b0d",
   "metadata": {},
   "source": [
    "### Part 1\n",
    "\n",
    "Brute-forcing..."
   ]
  },
  {
   "cell_type": "code",
   "execution_count": 127,
   "id": "4fee7b42",
   "metadata": {},
   "outputs": [],
   "source": [
    "import re\n",
    "from more_itertools import distinct_permutations\n",
    "\n",
    "def count_arrangements_bf(source):\n",
    "    s,ns = source\n",
    "    unknown = [ i for i,x in enumerate(s) if x==\"?\"]\n",
    "    nunkn = len(unknown)\n",
    "    nstot = sum(ns)\n",
    "    nsvis  = len(re.findall(\"#\",s))\n",
    "    nsmis = nstot-nsvis\n",
    "    tobeplaced = [\"#\"]*nsmis+[\".\"]*(nunkn-nsmis)\n",
    "    arrangements = 0 \n",
    "    for p in distinct_permutations(tobeplaced):\n",
    "        snew = list(s)\n",
    "        for c,i in zip(p,unknown):\n",
    "            snew[i] = c\n",
    "        snew = \"\".join(snew)\n",
    "        nsnew = [ len(c) for c in snew.split(\".\") if len(c) ]\n",
    "        if all( [nn==n for nn,n in zip(nsnew,ns)] ):\n",
    "            arrangements += 1\n",
    "    return arrangements\n",
    "\n",
    "def part1_bf(infile):\n",
    "    sources = readInput12(infile)\n",
    "    return sum([ count_arrangements_bf(s) for s in sources ])"
   ]
  },
  {
   "cell_type": "code",
   "execution_count": 128,
   "id": "33ed681a",
   "metadata": {},
   "outputs": [
    {
     "name": "stdout",
     "output_type": "stream",
     "text": [
      "Test 1: 21\n",
      "Part 1: 7286\n"
     ]
    }
   ],
   "source": [
    "print(\"Test 1:\",part1_bf(\"examples/example12.txt\"))\n",
    "print(\"Part 1:\",part1_bf(\"AOC2023inputs/input12.txt\"))"
   ]
  },
  {
   "cell_type": "markdown",
   "id": "fca0c590",
   "metadata": {},
   "source": [
    "### Part 2\n",
    "\n",
    "Brute forcing would obviously not work here...\n",
    "\n",
    "Using recursion + memoization (crucial!), following explanation and tutorial at https://www.youtube.com/watch?v=g3Ms5e7Jdqo"
   ]
  },
  {
   "cell_type": "code",
   "execution_count": 181,
   "id": "be4320c2",
   "metadata": {},
   "outputs": [
    {
     "name": "stdout",
     "output_type": "stream",
     "text": [
      "Test 1: 21\n",
      "Part 1: 7286\n"
     ]
    }
   ],
   "source": [
    "cache = {}\n",
    "\n",
    "def count_arrangements(pattern,numbers):\n",
    "\n",
    "    # an empty pattern is only valid if there are no sources on its right \n",
    "    # (thus an empy numbers tuple) associated to it, otherwise it's an \n",
    "    # invalid pattern and it should not be counted\n",
    "    if pattern==\"\":\n",
    "        if numbers==():\n",
    "            return 1\n",
    "        else:\n",
    "            return 0\n",
    "    \n",
    "    # if there are not more blocks expected but there's a # sign in the pattern\n",
    "    # the configuration is invalid, otherwise there will only be ? in the pattern\n",
    "    # and they should become .\n",
    "    if numbers==():\n",
    "        if '#' in pattern:\n",
    "            return 0\n",
    "        else:\n",
    "            return 1\n",
    "    \n",
    "    # memoization\n",
    "    key = (pattern,numbers)\n",
    "    if key in cache.keys():\n",
    "        return cache[key]\n",
    "\n",
    "    arrangements = 0\n",
    "\n",
    "    # if the first character in the pattern is either . or ? we recurse the counting\n",
    "    # on the rest of the pattern\n",
    "    if pattern[0] in \".?\":\n",
    "        arrangements += count_arrangements(pattern[1:],numbers)\n",
    "\n",
    "    # if the first character in the pattern is either # or ? we need to check whether the block is valid \n",
    "    # and 3 conditions are satisfied, in which case we expand the pattern in subpatterns and recurse\n",
    "    if pattern[0] in \"#?\":\n",
    "        # the first spring count must be great or equal to the pattern lenght and\n",
    "        # there must not be an operation spring in the pattern covered by the number count and\n",
    "        # all spring are operationals\n",
    "        if numbers[0] <= len(pattern) and \\\n",
    "            \".\" not in pattern[:numbers[0]] and \\\n",
    "            ( numbers[0] == len(pattern) or pattern[numbers[0]] != \"#\" ): \n",
    "            arrangements += count_arrangements(pattern[numbers[0]+1:],numbers[1:]) # if all conditions are satisfied, we develop the pattern with recursion\n",
    "\n",
    "    cache[key] = arrangements\n",
    "    return arrangements\n",
    "\n",
    "def part1(infile):\n",
    "    sources = readInput12(infile)\n",
    "    return sum([ count_arrangements(s,ns) for s,ns in sources ])\n",
    "\n",
    "print(\"Test 1:\",part1(\"examples/example12.txt\"))\n",
    "print(\"Part 1:\",part1(\"AOC2023inputs/input12.txt\"))"
   ]
  },
  {
   "cell_type": "code",
   "execution_count": 182,
   "id": "d03501c6",
   "metadata": {},
   "outputs": [],
   "source": [
    "def part2(infile):\n",
    "    sources = readInput12(infile)\n",
    "    tot = 0\n",
    "    for s,ns in sources:\n",
    "        s5 = (5*(s+\"?\"))[:-1]\n",
    "        ns5 = 5*ns\n",
    "        tot += count_arrangements(s5,ns5) \n",
    "    return tot"
   ]
  },
  {
   "cell_type": "code",
   "execution_count": 183,
   "id": "6b1a88c3",
   "metadata": {},
   "outputs": [
    {
     "name": "stdout",
     "output_type": "stream",
     "text": [
      "Test 2: 525152\n",
      "Part 2: 25470469710341\n"
     ]
    }
   ],
   "source": [
    "print(\"Test 2:\",part2(\"examples/example12.txt\"))\n",
    "print(\"Part 2:\",part2(\"AOC2023inputs/input12.txt\"))"
   ]
  },
  {
   "cell_type": "code",
   "execution_count": null,
   "id": "5d859f0d",
   "metadata": {},
   "outputs": [],
   "source": []
  }
 ],
 "metadata": {
  "kernelspec": {
   "display_name": "Python 3 (ipykernel)",
   "language": "python",
   "name": "python3"
  },
  "language_info": {
   "codemirror_mode": {
    "name": "ipython",
    "version": 3
   },
   "file_extension": ".py",
   "mimetype": "text/x-python",
   "name": "python",
   "nbconvert_exporter": "python",
   "pygments_lexer": "ipython3",
   "version": "3.11.6"
  }
 },
 "nbformat": 4,
 "nbformat_minor": 5
}
