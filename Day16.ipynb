{
 "cells": [
  {
   "cell_type": "code",
   "execution_count": 1,
   "id": "5922cf7f",
   "metadata": {},
   "outputs": [],
   "source": [
    "def readInput16(infile):\n",
    "    with open(infile) as f:\n",
    "        return [ l.strip(\"\\n\") for l in f.readlines() ]"
   ]
  },
  {
   "cell_type": "code",
   "execution_count": 162,
   "id": "f5526a9d",
   "metadata": {
    "scrolled": false
   },
   "outputs": [],
   "source": [
    "from queue import Queue\n",
    "from collections import defaultdict\n",
    "\n",
    "# directions (dx,dy)\n",
    "dirs = {\"N\": (0,-1), \"W\": (-1,0), \"S\": (0,+1), \"E\": (+1,0)}\n",
    "\n",
    "def propagate_beam(grid,start=((-1,0),\"E\"),verbose=False):\n",
    "\n",
    "    q = Queue()\n",
    "    energized = defaultdict(set)\n",
    "    q.put(start)\n",
    "\n",
    "    while not q.empty():\n",
    "            \n",
    "        # get current light beam from queue and try to move it to next position\n",
    "        (x,y),m = q.get()\n",
    "        \n",
    "        xnext, ynext = x+dirs[m][0], y+dirs[m][1]\n",
    "        pnext = (xnext,ynext)\n",
    "        \n",
    "        # next position is outside the grid, discard light beam\n",
    "        if xnext<0 or xnext>=len(grid[0]) or ynext<0 or ynext>=len(grid):\n",
    "            if verbose: print(\"out of grid\")\n",
    "            continue\n",
    "        \n",
    "        if verbose: print(pnext,grid[ynext][xnext],m)\n",
    "\n",
    "        # discard if a beam already passed in this position with this direction to avoid light loops\n",
    "        if m in energized[pnext]:\n",
    "            continue\n",
    "            \n",
    "        energized[pnext].add(m)\n",
    "        \n",
    "        if grid[ynext][xnext]==\".\": # continue in same direction\n",
    "            q.put((pnext,m)) \n",
    "\n",
    "        elif grid[ynext][xnext]==\"|\":\n",
    "            if m==\"N\" or m==\"S\": # if coming from N or S continue in same direction\n",
    "                q.put((pnext,m)) \n",
    "            elif m==\"E\" or m==\"W\": # if coming from E or W, split N and S\n",
    "                q.put((pnext,\"N\"))\n",
    "                q.put((pnext,\"S\"))\n",
    "\n",
    "        elif grid[ynext][xnext]==\"-\":\n",
    "            if m==\"W\" or m==\"E\": # if coming from W or E continue in same direction\n",
    "                q.put((pnext,m)) \n",
    "            elif m==\"N\" or m==\"S\": # if coming from N or S, split W and E\n",
    "                q.put((pnext,\"W\"))\n",
    "                q.put((pnext,\"E\"))           \n",
    "\n",
    "        elif grid[ynext][xnext]=='/':\n",
    "            if m==\"E\": # -> N\n",
    "                q.put((pnext,\"N\"))\n",
    "            if m==\"S\": # -> W\n",
    "                q.put((pnext,\"W\"))\n",
    "            if m==\"W\": # -> S\n",
    "                q.put((pnext,\"S\"))\n",
    "            if m==\"N\": # -> E\n",
    "                q.put((pnext,\"E\"))  \n",
    "\n",
    "        elif grid[ynext][xnext]=='\\\\':\n",
    "            if m==\"E\": # -> S\n",
    "                q.put((pnext,\"S\"))\n",
    "            if m==\"S\": # -> E\n",
    "                q.put((pnext,\"E\"))  \n",
    "            if m==\"W\": # -> N\n",
    "                q.put((pnext,\"N\"))\n",
    "            if m==\"N\": # -> W                \n",
    "                q.put((pnext,\"W\"))\n",
    "        \n",
    "    return energized\n",
    "\n",
    "def part1(infile):\n",
    "    grid = readInput16(infile)\n",
    "    energized = propagate_beam(grid)\n",
    "    return len(energized.keys())"
   ]
  },
  {
   "cell_type": "code",
   "execution_count": 183,
   "id": "3b6f2262",
   "metadata": {},
   "outputs": [
    {
     "data": {
      "image/png": "[encoded data removed]",
      "text/plain": [
       "<Figure size 400x400 with 1 Axes>"
      ]
     },
     "metadata": {},
     "output_type": "display_data"
    }
   ],
   "source": [
    "import matplotlib.pyplot as plt\n",
    "import numpy as np\n",
    "\n",
    "grid = readInput16(\"examples/example16.txt\")\n",
    "energized = propagate_beam(grid)\n",
    "energies = np.zeros((len(grid),len(grid[0])))\n",
    "\n",
    "for (x,y),e in energized.items():\n",
    "    energies[y,x] = len(e)\n",
    "    \n",
    "fig = plt.figure(figsize=(4,4))\n",
    "ax = fig.add_axes([0, 0, 1, 1])\n",
    "ax.axis('off')\n",
    "_ = plt.imshow(energies)"
   ]
  },
  {
   "cell_type": "code",
   "execution_count": 164,
   "id": "268f6355",
   "metadata": {},
   "outputs": [
    {
     "name": "stdout",
     "output_type": "stream",
     "text": [
      "Test 1: 46\n",
      "Part 1: 7415\n"
     ]
    }
   ],
   "source": [
    "print(\"Test 1:\",part1(\"examples/example16.txt\"))\n",
    "print(\"Part 1:\",part1(\"AOC2023inputs/input16.txt\"))"
   ]
  },
  {
   "cell_type": "code",
   "execution_count": 181,
   "id": "1b742905",
   "metadata": {},
   "outputs": [
    {
     "data": {
      "image/png": "[encoded data removed]",
      "text/plain": [
       "<Figure size 800x800 with 1 Axes>"
      ]
     },
     "metadata": {},
     "output_type": "display_data"
    }
   ],
   "source": [
    "grid = readInput16(\"AOC2023inputs/input16.txt\")\n",
    "\n",
    "energized = propagate_beam(grid)\n",
    "energies = np.zeros((len(grid),len(grid[0])))\n",
    "\n",
    "for (x,y),e in energized.items():\n",
    "    energies[y,x] = len(e)\n",
    "\n",
    "fig = plt.figure(figsize=(8,8))\n",
    "ax = fig.add_axes([0, 0, 1, 1])\n",
    "ax.axis('off')\n",
    "_ = plt.imshow(energies)"
   ]
  },
  {
   "cell_type": "code",
   "execution_count": 172,
   "id": "04e185df",
   "metadata": {},
   "outputs": [],
   "source": [
    "def part2(infile):\n",
    "    grid = readInput16(infile)\n",
    "    \n",
    "    starts  = [ ((x,-1),\"S\") for x in range(len(grid[0])) ] # top\n",
    "    starts += [ ((-1,y),\"E\") for y in range(len(grid))    ] # left\n",
    "    starts += [ ((x,len(grid)),\"N\") for x in range(len(grid[0])) ] # bottom\n",
    "    starts += [ ((len(grid[0]),y),\"E\") for y in range(len(grid)) ] # left\n",
    "    \n",
    "    energ = []\n",
    "    for s in starts:\n",
    "        energized = propagate_beam(grid,s)\n",
    "        energ.append(len(energized.keys()))\n",
    "    \n",
    "    return max(energ)"
   ]
  },
  {
   "cell_type": "code",
   "execution_count": 175,
   "id": "ca187706",
   "metadata": {},
   "outputs": [
    {
     "name": "stdout",
     "output_type": "stream",
     "text": [
      "Test 2: 51\n",
      "Part 2: 7943\n"
     ]
    }
   ],
   "source": [
    "print(\"Test 2:\",part2(\"examples/example16.txt\"))\n",
    "print(\"Part 2:\",part2(\"AOC2023inputs/input16.txt\"))"
   ]
  },
  {
   "cell_type": "code",
   "execution_count": null,
   "id": "5f59dfe8",
   "metadata": {},
   "outputs": [],
   "source": []
  }
 ],
 "metadata": {
  "kernelspec": {
   "display_name": "Python 3 (ipykernel)",
   "language": "python",
   "name": "python3"
  },
  "language_info": {
   "codemirror_mode": {
    "name": "ipython",
    "version": 3
   },
   "file_extension": ".py",
   "mimetype": "text/x-python",
   "name": "python",
   "nbconvert_exporter": "python",
   "pygments_lexer": "ipython3",
   "version": "3.11.6"
  }
 },
 "nbformat": 4,
 "nbformat_minor": 5
}
