{
 "cells": [
  {
   "cell_type": "markdown",
   "id": "4e73eb75",
   "metadata": {},
   "source": [
    "## Day 4\n",
    "\n",
    "https://adventofcode.com/2023/day/4"
   ]
  },
  {
   "cell_type": "code",
   "execution_count": 1,
   "id": "45996d18",
   "metadata": {},
   "outputs": [],
   "source": [
    "import re\n",
    "\n",
    "def processCards(infile):\n",
    "    with open(infile) as f:\n",
    "        cards = f.readlines()\n",
    "        wins = [0]*len(cards)\n",
    "        for i,l in enumerate(cards):\n",
    "            card = l.strip(\"\\n\").split(\": \")[1].split(\" | \")\n",
    "            c1 = set([int(n) for n in re.findall(\"\\d+\",card[0])])\n",
    "            c2 = set([int(n) for n in re.findall(\"\\d+\",card[1])])\n",
    "            wins[i] = len(c1.intersection(c2))\n",
    "    return wins\n",
    "            \n",
    "def part1(infile):\n",
    "    return sum([2**(w-1) for w in processCards(infile) if w])"
   ]
  },
  {
   "cell_type": "code",
   "execution_count": 2,
   "id": "cfc35f13",
   "metadata": {},
   "outputs": [
    {
     "name": "stdout",
     "output_type": "stream",
     "text": [
      "Test 1: 13\n",
      "Part 1: 20117\n"
     ]
    }
   ],
   "source": [
    "print(\"Test 1:\",part1(\"examples/example04.txt\"))\n",
    "print(\"Part 1:\",part1(\"AOC2023inputs/input04.txt\"))"
   ]
  },
  {
   "cell_type": "code",
   "execution_count": 3,
   "id": "8bc4cbab",
   "metadata": {},
   "outputs": [],
   "source": [
    "def part2(infile):\n",
    "    wins = processCards(infile)\n",
    "    cards = [1]*len(wins)\n",
    "    for i in range(len(wins)):\n",
    "        for j in range(wins[i]):\n",
    "            cards[i+j+1] += cards[i] \n",
    "    return sum(cards)"
   ]
  },
  {
   "cell_type": "code",
   "execution_count": 4,
   "id": "b5190453",
   "metadata": {},
   "outputs": [
    {
     "name": "stdout",
     "output_type": "stream",
     "text": [
      "Test 2: 30\n",
      "Part 2: 13768818\n"
     ]
    }
   ],
   "source": [
    "print(\"Test 2:\",part2(\"examples/example04.txt\"))\n",
    "print(\"Part 2:\",part2(\"AOC2023inputs/input04.txt\"))"
   ]
  },
  {
   "cell_type": "code",
   "execution_count": null,
   "id": "feecf73c",
   "metadata": {},
   "outputs": [],
   "source": []
  }
 ],
 "metadata": {
  "kernelspec": {
   "display_name": "Python 3 (ipykernel)",
   "language": "python",
   "name": "python3"
  },
  "language_info": {
   "codemirror_mode": {
    "name": "ipython",
    "version": 3
   },
   "file_extension": ".py",
   "mimetype": "text/x-python",
   "name": "python",
   "nbconvert_exporter": "python",
   "pygments_lexer": "ipython3",
   "version": "3.11.6"
  }
 },
 "nbformat": 4,
 "nbformat_minor": 5
}
