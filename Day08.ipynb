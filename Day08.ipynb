{
 "cells": [
  {
   "cell_type": "markdown",
   "id": "c9c98593",
   "metadata": {},
   "source": [
    "## Day 8"
   ]
  },
  {
   "cell_type": "code",
   "execution_count": 1,
   "id": "005874a9",
   "metadata": {
    "scrolled": false
   },
   "outputs": [],
   "source": [
    "def readInput08(infile):\n",
    "    with open(infile) as f:\n",
    "        l = f.read().split(\"\\n\\n\")\n",
    "        graph = {}\n",
    "        for d in l[1].strip(\"\\n\").split('\\n'):\n",
    "            k = d.split(\" = \")\n",
    "            graph[k[0]] = k[1].replace(\"(\",\"\").replace(\")\",\"\").split(\", \")\n",
    "        return l[0],graph\n",
    "\n",
    "def path(instr,graph,start=\"AAA\",end=\"ZZZ\",mmax=0):\n",
    "    mov = {\"R\":1, \"L\":0}\n",
    "    pos = start\n",
    "    i = 0\n",
    "    m = 0\n",
    "    while True:\n",
    "        pos = graph[pos][mov[instr[i]]]\n",
    "        m += 1\n",
    "        if pos==end:\n",
    "            return m                \n",
    "        i+=1\n",
    "        if i==len(instr):\n",
    "            i=0\n",
    "        if mmax and m>mmax:\n",
    "            return None\n",
    "\n",
    "def part1(infile):\n",
    "    instr,graph = readInput08(infile)\n",
    "    return path(instr,graph)"
   ]
  },
  {
   "cell_type": "code",
   "execution_count": 2,
   "id": "0359e055",
   "metadata": {},
   "outputs": [
    {
     "name": "stdout",
     "output_type": "stream",
     "text": [
      "Test 1-1: 2\n",
      "Test 1-2: 6\n",
      "Part 1  : 19241\n"
     ]
    }
   ],
   "source": [
    "print(\"Test 1-1:\",part1(\"examples/example08-1.txt\"))\n",
    "print(\"Test 1-2:\",part1(\"examples/example08-2.txt\"))\n",
    "print(\"Part 1  :\",part1(\"AOC2023inputs/input08.txt\"))"
   ]
  },
  {
   "cell_type": "markdown",
   "id": "6e30c790",
   "metadata": {},
   "source": [
    "### Part 2\n",
    "\n",
    "Observations:\n",
    "* Each starting point seems to only get to a specific end;\n",
    "* Each starting point loops back to the same end after the same number of steps.\n",
    "\n",
    "Solution:\n",
    "* Find specific ending point for each starting point using part 1 `path()` function, exiting path loop if too many steps;\n",
    "* Comput LCM between lenghts of paths from all starting points."
   ]
  },
  {
   "cell_type": "code",
   "execution_count": 16,
   "id": "03f264ad",
   "metadata": {},
   "outputs": [],
   "source": [
    "import numpy as np\n",
    "\n",
    "def part2(infile):\n",
    "    instr,graph = readInput08(infile)\n",
    "    starts = [k for k in graph.keys() if k[-1]==\"A\"]\n",
    "    ends = [k for k in graph.keys() if k[-1]==\"Z\"]\n",
    "    paths = []\n",
    "    for s in starts:\n",
    "        # search for exit point of current staring point, save path period to compute LCM\n",
    "        for e in ends:\n",
    "            m = path(instr,graph,s,e,100_000)\n",
    "            if m:\n",
    "                paths.append(m)\n",
    "                break\n",
    "        ends.pop(ends.index(e)) # remove ends already matched to a starting point to speed up search\n",
    "    return np.lcm.reduce(paths) # LCM of all periods"
   ]
  },
  {
   "cell_type": "code",
   "execution_count": 17,
   "id": "64c53162",
   "metadata": {},
   "outputs": [
    {
     "name": "stdout",
     "output_type": "stream",
     "text": [
      "Test 2: 6\n",
      "Part 2: 9606140307013\n"
     ]
    }
   ],
   "source": [
    "print(\"Test 2:\",part2(\"examples/example08-3.txt\"))\n",
    "print(\"Part 2:\",part2(\"AOC2023inputs/input08.txt\"))"
   ]
  },
  {
   "cell_type": "code",
   "execution_count": null,
   "id": "7c0ee53c",
   "metadata": {},
   "outputs": [],
   "source": []
  }
 ],
 "metadata": {
  "kernelspec": {
   "display_name": "Python 3 (ipykernel)",
   "language": "python",
   "name": "python3"
  },
  "language_info": {
   "codemirror_mode": {
    "name": "ipython",
    "version": 3
   },
   "file_extension": ".py",
   "mimetype": "text/x-python",
   "name": "python",
   "nbconvert_exporter": "python",
   "pygments_lexer": "ipython3",
   "version": "3.11.6"
  }
 },
 "nbformat": 4,
 "nbformat_minor": 5
}
