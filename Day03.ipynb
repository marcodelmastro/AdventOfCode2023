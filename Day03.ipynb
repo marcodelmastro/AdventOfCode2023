{
 "cells": [
  {
   "cell_type": "markdown",
   "id": "d372b4d8",
   "metadata": {},
   "source": [
    "## Day 3\n",
    "\n",
    "https://adventofcode.com/2023/day/3"
   ]
  },
  {
   "cell_type": "code",
   "execution_count": 194,
   "id": "49bf8e2e",
   "metadata": {},
   "outputs": [],
   "source": [
    "import re\n",
    "\n",
    "def searchAdjacents(engine):\n",
    "    parts = []\n",
    "    notparts = []\n",
    "    for j in range(len(engine)):\n",
    "        # search all integers in current engine line useing re.finditer() \n",
    "        # to account for duplicates and get position in string\n",
    "        for p in re.finditer(r'\\d+',engine[j]):\n",
    "            pn = p.group(0) # matched integer\n",
    "            ps = p.start() # start position in string\n",
    "            pe = p.end() # end position in string\n",
    "            # search for simbol around part number\n",
    "            s = []\n",
    "            for Y in range( max(j-1,0) , min(j+2,len(engine)) ):\n",
    "                for X in range( max(ps-1,0), min(pe+1,len(engine[j])) ):\n",
    "                    if not engine[Y][X].isdigit() and engine[Y][X]!=\".\":\n",
    "                        s.append( (engine[Y][X],(X,Y)) )\n",
    "            if len(s):\n",
    "                parts.append((int(pn),s[0]))\n",
    "    return parts\n",
    "\n",
    "def part1(infile):\n",
    "    with open(infile) as f:\n",
    "        engine = f.read().split()\n",
    "        adj = searchAdjacents(engine)\n",
    "        return sum([ n for n,p in adj])"
   ]
  },
  {
   "cell_type": "code",
   "execution_count": 195,
   "id": "9a92c35f",
   "metadata": {
    "scrolled": false
   },
   "outputs": [
    {
     "name": "stdout",
     "output_type": "stream",
     "text": [
      "Test 1: 4361\n",
      "Part 1: 539637\n"
     ]
    }
   ],
   "source": [
    "print(\"Test 1:\",part1(\"examples/example03.txt\"))\n",
    "print(\"Part 1:\",part1(\"AOC2023inputs/input03.txt\"))"
   ]
  },
  {
   "cell_type": "code",
   "execution_count": 211,
   "id": "a457693e",
   "metadata": {},
   "outputs": [],
   "source": [
    "from collections import defaultdict\n",
    "\n",
    "def part2(infile):\n",
    "    with open(infile) as f:\n",
    "        engine = f.read().split()\n",
    "        adj = searchAdjacents(engine)\n",
    "        gears = defaultdict(list)\n",
    "        for n,(g,X) in adj:\n",
    "            if g==\"*\":\n",
    "                gears[X].append(n)\n",
    "        return sum([ v[0]*v[1] for X,v in gears.items() if len(v)==2 ])"
   ]
  },
  {
   "cell_type": "code",
   "execution_count": 214,
   "id": "00261f05",
   "metadata": {},
   "outputs": [
    {
     "name": "stdout",
     "output_type": "stream",
     "text": [
      "Test 2: 467835\n",
      "Part 2: 82818007\n"
     ]
    }
   ],
   "source": [
    "print(\"Test 2:\",part2(\"examples/example03.txt\"))\n",
    "print(\"Part 2:\",part2(\"AOC2023inputs/input03.txt\"))"
   ]
  },
  {
   "cell_type": "code",
   "execution_count": null,
   "id": "957e43ff",
   "metadata": {},
   "outputs": [],
   "source": []
  }
 ],
 "metadata": {
  "kernelspec": {
   "display_name": "Python 3 (ipykernel)",
   "language": "python",
   "name": "python3"
  },
  "language_info": {
   "codemirror_mode": {
    "name": "ipython",
    "version": 3
   },
   "file_extension": ".py",
   "mimetype": "text/x-python",
   "name": "python",
   "nbconvert_exporter": "python",
   "pygments_lexer": "ipython3",
   "version": "3.11.6"
  }
 },
 "nbformat": 4,
 "nbformat_minor": 5
}
