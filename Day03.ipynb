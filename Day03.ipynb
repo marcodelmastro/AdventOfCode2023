{
 "cells": [
  {
   "cell_type": "markdown",
   "id": "d372b4d8",
   "metadata": {},
   "source": [
    "## Day 3\n",
    "\n",
    "https://adventofcode.com/2023/day/3"
   ]
  },
  {
   "cell_type": "code",
   "execution_count": 3,
   "id": "49bf8e2e",
   "metadata": {},
   "outputs": [],
   "source": [
    "import re\n",
    "\n",
    "def searchAdjacents(engine):\n",
    "    parts = []\n",
    "    for j in range(len(engine)):\n",
    "        # search all integers in current line using re.finditer() to account for \n",
    "        # all possible duplicates and get number position in string\n",
    "        for p in re.finditer(r'\\d+',engine[j]):\n",
    "            pn = p.group(0) # matched integer\n",
    "            ps = p.start() # start position in string\n",
    "            pe = p.end() # end position in string\n",
    "            # search for simbol around part number\n",
    "            s = []\n",
    "            for y in range( max(j-1,0) , min(j+2,len(engine)) ):\n",
    "                for x in range( max(ps-1,0), min(pe+1,len(engine[j])) ):\n",
    "                    if not engine[y][x].isdigit() and engine[y][x]!=\".\":\n",
    "                        s.append( (engine[y][x],(x,y)) )\n",
    "            if len(s):\n",
    "                parts.append((int(pn),s[0]))\n",
    "    return parts\n",
    "\n",
    "def part1(infile):\n",
    "    with open(infile) as f:\n",
    "        engine = f.read().split()\n",
    "        adj = searchAdjacents(engine)\n",
    "        return sum([ n for n,p in adj])"
   ]
  },
  {
   "cell_type": "code",
   "execution_count": 4,
   "id": "9a92c35f",
   "metadata": {
    "scrolled": false
   },
   "outputs": [
    {
     "name": "stdout",
     "output_type": "stream",
     "text": [
      "Test 1: 4361\n"
     ]
    },
    {
     "ename": "FileNotFoundError",
     "evalue": "[Errno 2] No such file or directory: 'AOC2023inputs/input03.txt'",
     "output_type": "error",
     "traceback": [
      "\u001b[0;31m---------------------------------------------------------------------------\u001b[0m",
      "\u001b[0;31mFileNotFoundError\u001b[0m                         Traceback (most recent call last)",
      "Cell \u001b[0;32mIn[4], line 2\u001b[0m\n\u001b[1;32m      1\u001b[0m \u001b[38;5;28mprint\u001b[39m(\u001b[38;5;124m\"\u001b[39m\u001b[38;5;124mTest 1:\u001b[39m\u001b[38;5;124m\"\u001b[39m,part1(\u001b[38;5;124m\"\u001b[39m\u001b[38;5;124mexamples/example03.txt\u001b[39m\u001b[38;5;124m\"\u001b[39m))\n\u001b[0;32m----> 2\u001b[0m \u001b[38;5;28mprint\u001b[39m(\u001b[38;5;124m\"\u001b[39m\u001b[38;5;124mPart 1:\u001b[39m\u001b[38;5;124m\"\u001b[39m,\u001b[43mpart1\u001b[49m\u001b[43m(\u001b[49m\u001b[38;5;124;43m\"\u001b[39;49m\u001b[38;5;124;43mAOC2023inputs/input03.txt\u001b[39;49m\u001b[38;5;124;43m\"\u001b[39;49m\u001b[43m)\u001b[49m)\n",
      "Cell \u001b[0;32mIn[3], line 23\u001b[0m, in \u001b[0;36mpart1\u001b[0;34m(infile)\u001b[0m\n\u001b[1;32m     22\u001b[0m \u001b[38;5;28;01mdef\u001b[39;00m \u001b[38;5;21mpart1\u001b[39m(infile):\n\u001b[0;32m---> 23\u001b[0m     \u001b[38;5;28;01mwith\u001b[39;00m \u001b[38;5;28;43mopen\u001b[39;49m\u001b[43m(\u001b[49m\u001b[43minfile\u001b[49m\u001b[43m)\u001b[49m \u001b[38;5;28;01mas\u001b[39;00m f:\n\u001b[1;32m     24\u001b[0m         engine \u001b[38;5;241m=\u001b[39m f\u001b[38;5;241m.\u001b[39mread()\u001b[38;5;241m.\u001b[39msplit()\n\u001b[1;32m     25\u001b[0m         adj \u001b[38;5;241m=\u001b[39m searchAdjacents(engine)\n",
      "File \u001b[0;32m/usr/local/lib/python3.11/site-packages/IPython/core/interactiveshell.py:284\u001b[0m, in \u001b[0;36m_modified_open\u001b[0;34m(file, *args, **kwargs)\u001b[0m\n\u001b[1;32m    277\u001b[0m \u001b[38;5;28;01mif\u001b[39;00m file \u001b[38;5;129;01min\u001b[39;00m {\u001b[38;5;241m0\u001b[39m, \u001b[38;5;241m1\u001b[39m, \u001b[38;5;241m2\u001b[39m}:\n\u001b[1;32m    278\u001b[0m     \u001b[38;5;28;01mraise\u001b[39;00m \u001b[38;5;167;01mValueError\u001b[39;00m(\n\u001b[1;32m    279\u001b[0m         \u001b[38;5;124mf\u001b[39m\u001b[38;5;124m\"\u001b[39m\u001b[38;5;124mIPython won\u001b[39m\u001b[38;5;124m'\u001b[39m\u001b[38;5;124mt let you open fd=\u001b[39m\u001b[38;5;132;01m{\u001b[39;00mfile\u001b[38;5;132;01m}\u001b[39;00m\u001b[38;5;124m by default \u001b[39m\u001b[38;5;124m\"\u001b[39m\n\u001b[1;32m    280\u001b[0m         \u001b[38;5;124m\"\u001b[39m\u001b[38;5;124mas it is likely to crash IPython. If you know what you are doing, \u001b[39m\u001b[38;5;124m\"\u001b[39m\n\u001b[1;32m    281\u001b[0m         \u001b[38;5;124m\"\u001b[39m\u001b[38;5;124myou can use builtins\u001b[39m\u001b[38;5;124m'\u001b[39m\u001b[38;5;124m open.\u001b[39m\u001b[38;5;124m\"\u001b[39m\n\u001b[1;32m    282\u001b[0m     )\n\u001b[0;32m--> 284\u001b[0m \u001b[38;5;28;01mreturn\u001b[39;00m \u001b[43mio_open\u001b[49m\u001b[43m(\u001b[49m\u001b[43mfile\u001b[49m\u001b[43m,\u001b[49m\u001b[43m \u001b[49m\u001b[38;5;241;43m*\u001b[39;49m\u001b[43margs\u001b[49m\u001b[43m,\u001b[49m\u001b[43m \u001b[49m\u001b[38;5;241;43m*\u001b[39;49m\u001b[38;5;241;43m*\u001b[39;49m\u001b[43mkwargs\u001b[49m\u001b[43m)\u001b[49m\n",
      "\u001b[0;31mFileNotFoundError\u001b[0m: [Errno 2] No such file or directory: 'AOC2023inputs/input03.txt'"
     ]
    }
   ],
   "source": [
    "print(\"Test 1:\",part1(\"examples/example03.txt\"))\n",
    "print(\"Part 1:\",part1(\"AOC2023inputs/input03.txt\"))"
   ]
  },
  {
   "cell_type": "code",
   "execution_count": null,
   "id": "a457693e",
   "metadata": {},
   "outputs": [],
   "source": [
    "from collections import defaultdict\n",
    "\n",
    "def part2(infile):\n",
    "    with open(infile) as f:\n",
    "        engine = f.read().split()\n",
    "        adj = searchAdjacents(engine)\n",
    "        gears = defaultdict(list)\n",
    "        for n,(g,X) in adj:\n",
    "            if g==\"*\":\n",
    "                gears[X].append(n)\n",
    "        return sum([ v[0]*v[1] for X,v in gears.items() if len(v)==2 ])"
   ]
  },
  {
   "cell_type": "code",
   "execution_count": null,
   "id": "00261f05",
   "metadata": {},
   "outputs": [],
   "source": [
    "print(\"Test 2:\",part2(\"examples/example03.txt\"))\n",
    "print(\"Part 2:\",part2(\"AOC2023inputs/input03.txt\"))"
   ]
  },
  {
   "cell_type": "code",
   "execution_count": null,
   "id": "957e43ff",
   "metadata": {},
   "outputs": [],
   "source": []
  }
 ],
 "metadata": {
  "kernelspec": {
   "display_name": "Python 3 (ipykernel)",
   "language": "python",
   "name": "python3"
  },
  "language_info": {
   "codemirror_mode": {
    "name": "ipython",
    "version": 3
   },
   "file_extension": ".py",
   "mimetype": "text/x-python",
   "name": "python",
   "nbconvert_exporter": "python",
   "pygments_lexer": "ipython3",
   "version": "3.11.6"
  }
 },
 "nbformat": 4,
 "nbformat_minor": 5
}
