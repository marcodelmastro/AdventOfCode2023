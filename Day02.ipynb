{
 "cells": [
  {
   "cell_type": "markdown",
   "id": "3966b850",
   "metadata": {},
   "source": [
    "## Day 2\n",
    "\n",
    "https://adventofcode.com/2023/day/2"
   ]
  },
  {
   "cell_type": "code",
   "execution_count": 19,
   "id": "325a02fd",
   "metadata": {},
   "outputs": [],
   "source": [
    "def read02(infile):\n",
    "    games = []\n",
    "    with open(infile) as f:\n",
    "        for l in f.readlines():\n",
    "            a = l.strip(\"\\n\").split(\": \")\n",
    "            gid = int(a[0].split(\" \")[1])\n",
    "            hands = []\n",
    "            for h in a[1].split(\"; \"):\n",
    "                hand = [0,0,0]\n",
    "                for d in h.split(\", \"):\n",
    "                    v = d.split(\" \")\n",
    "                    if v[1]==\"red\":\n",
    "                        hand[0]+=int(v[0])\n",
    "                    if v[1]==\"green\":\n",
    "                        hand[1]+=int(v[0])\n",
    "                    if v[1]==\"blue\":\n",
    "                        hand[2]+=int(v[0])\n",
    "                hands.append(hand)\n",
    "            games.append((gid,hands))\n",
    "    return games"
   ]
  },
  {
   "cell_type": "code",
   "execution_count": 20,
   "id": "4867211f",
   "metadata": {},
   "outputs": [],
   "source": [
    "def compareHand(hand):\n",
    "    return all(map(lambda i, j: i<=j, hand, [12,13,14])) \n",
    "\n",
    "def part1(infile):\n",
    "    games = read02(infile)\n",
    "    sumid = 0\n",
    "    for gid,hands in games:\n",
    "        res = [ compareHand(h) for h in hands ]\n",
    "        if sum(res)==len(res):\n",
    "            sumid += gid\n",
    "    return sumid"
   ]
  },
  {
   "cell_type": "code",
   "execution_count": 21,
   "id": "3be4ccce",
   "metadata": {},
   "outputs": [
    {
     "name": "stdout",
     "output_type": "stream",
     "text": [
      "Test 1: 8\n",
      "Part 1: 2268\n"
     ]
    }
   ],
   "source": [
    "print(\"Test 1:\",part1(\"examples/example02.txt\"))\n",
    "print(\"Part 1:\",part1(\"AOC2023inputs/input02.txt\"))"
   ]
  },
  {
   "cell_type": "code",
   "execution_count": 22,
   "id": "55afbd20",
   "metadata": {},
   "outputs": [],
   "source": [
    "import numpy as np\n",
    "from functools import reduce \n",
    "from operator import mul\n",
    "\n",
    "def part2(infile):\n",
    "    games = read02(infile)\n",
    "    sumpower = 0\n",
    "    for gid,hands in games:\n",
    "        minballs = [ max(b) for b in np.rot90(np.array(hands)) ]\n",
    "        sumpower += reduce(mul,minballs,1)\n",
    "    return sumpower"
   ]
  },
  {
   "cell_type": "code",
   "execution_count": 23,
   "id": "37db4c68",
   "metadata": {},
   "outputs": [
    {
     "name": "stdout",
     "output_type": "stream",
     "text": [
      "Test 2: 2286\n",
      "Part 2: 63542\n"
     ]
    }
   ],
   "source": [
    "print(\"Test 2:\",part2(\"examples/example02.txt\"))\n",
    "print(\"Part 2:\",part2(\"AOC2023inputs/input02.txt\"))"
   ]
  },
  {
   "cell_type": "code",
   "execution_count": null,
   "id": "f9630276",
   "metadata": {},
   "outputs": [],
   "source": []
  }
 ],
 "metadata": {
  "kernelspec": {
   "display_name": "Python 3 (ipykernel)",
   "language": "python",
   "name": "python3"
  },
  "language_info": {
   "codemirror_mode": {
    "name": "ipython",
    "version": 3
   },
   "file_extension": ".py",
   "mimetype": "text/x-python",
   "name": "python",
   "nbconvert_exporter": "python",
   "pygments_lexer": "ipython3",
   "version": "3.11.6"
  }
 },
 "nbformat": 4,
 "nbformat_minor": 5
}
