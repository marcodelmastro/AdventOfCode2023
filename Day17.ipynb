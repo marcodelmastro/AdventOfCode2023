{
 "cells": [
  {
   "cell_type": "markdown",
   "id": "a6f83d4d",
   "metadata": {},
   "source": [
    "## Day 17"
   ]
  },
  {
   "cell_type": "code",
   "execution_count": 1,
   "id": "2f4f58e7",
   "metadata": {},
   "outputs": [],
   "source": [
    "def readInput17(filename):\n",
    "    with open(filename) as f:\n",
    "        grid = {}\n",
    "        lines = f.read().strip().splitlines()\n",
    "        for y,l in enumerate(lines):\n",
    "            for x,c in enumerate(l.strip(\"\\n\")):\n",
    "                grid[(x,y)]=int(c)\n",
    "        return grid,len(lines[0]),len(lines)"
   ]
  },
  {
   "cell_type": "code",
   "execution_count": 61,
   "id": "76675917",
   "metadata": {
    "scrolled": false
   },
   "outputs": [
    {
     "name": "stdout",
     "output_type": "stream",
     "text": [
      "114\n"
     ]
    }
   ],
   "source": [
    "from queue import PriorityQueue\n",
    "from collections import defaultdict\n",
    "\n",
    "def least_heat_loss(grid,S,E,max_moves=3): \n",
    "\n",
    "    queue = PriorityQueue()\n",
    "    queue.put((0,[S],(0,0),0)) # heatloss, path, movement, how many times last movement was made\n",
    "    visited = defaultdict(bool)\n",
    "\n",
    "    while True:\n",
    "\n",
    "        heatloss,path,move,nmove = queue.get()\n",
    "        curr = path[-1]\n",
    "        if curr==E:\n",
    "            return heatloss, path\n",
    "\n",
    "        # avoid already-visited positions from this specific movement\n",
    "        if visited[(curr,move,nmove)]: \n",
    "            continue\n",
    "\n",
    "        # add current position to visited set\n",
    "        visited[(curr,move,nmove)] = True\n",
    "\n",
    "        # current position and direction of movement\n",
    "        x,y = curr\n",
    "        dxm,dym = move\n",
    "\n",
    "        if nmove<max_moves and move!=(0,0): # can still go in current direction\n",
    "            p = (x+dxm,y+dym)\n",
    "            if p not in grid.keys(): # avoid grid boundaries\n",
    "                continue\n",
    "            else:\n",
    "                queue.put((heatloss+grid[p],list(path)+[p],move,nmove+1))\n",
    "\n",
    "        for m in [ (-1,0), (+1,0), (0,-1), (0,+1) ]: # all possible directions\n",
    "            if m != move and m != (-dxm,-dym): # cannot go back, and forward is already considered\n",
    "                p = (x+m[0],y+m[1])\n",
    "                if p not in grid.keys(): # avoid grid boundaries\n",
    "                    continue\n",
    "                else:\n",
    "                    queue.put((heatloss+grid[p],list(path)+[p],m,1))\n",
    "\n",
    "grid,xmax,ymax = readInput17(\"examples/example17.txt\")\n",
    "#grid,xmax,ymax = readInput17(\"AOC2023inputs/input17.txt\")\n",
    "\n",
    "S = (0,0)\n",
    "E = (xmax-1,ymax-1)\n",
    "heatloss,path = least_heat_loss(grid,S,E,max_moves=3)\n",
    "print(heatloss) # should be 102"
   ]
  },
  {
   "cell_type": "code",
   "execution_count": 59,
   "id": "ea8d405d",
   "metadata": {},
   "outputs": [
    {
     "data": {
      "text/plain": [
       "<matplotlib.image.AxesImage at 0x10bdf3310>"
      ]
     },
     "execution_count": 59,
     "metadata": {},
     "output_type": "execute_result"
    },
    {
     "data": {
      "image/png": "[encoded data removed]",
      "text/plain": [
       "<Figure size 640x480 with 1 Axes>"
      ]
     },
     "metadata": {},
     "output_type": "display_data"
    }
   ],
   "source": [
    "import matplotlib.pyplot as plt\n",
    "import numpy as np\n",
    "\n",
    "road = np.zeros((ymax,xmax))\n",
    "for x,y in path:\n",
    "    road[y,x]=1\n",
    "    \n",
    "plt.imshow(road)"
   ]
  },
  {
   "cell_type": "code",
   "execution_count": null,
   "id": "6c994040",
   "metadata": {},
   "outputs": [],
   "source": []
  }
 ],
 "metadata": {
  "kernelspec": {
   "display_name": "Python 3 (ipykernel)",
   "language": "python",
   "name": "python3"
  },
  "language_info": {
   "codemirror_mode": {
    "name": "ipython",
    "version": 3
   },
   "file_extension": ".py",
   "mimetype": "text/x-python",
   "name": "python",
   "nbconvert_exporter": "python",
   "pygments_lexer": "ipython3",
   "version": "3.11.6"
  }
 },
 "nbformat": 4,
 "nbformat_minor": 5
}
