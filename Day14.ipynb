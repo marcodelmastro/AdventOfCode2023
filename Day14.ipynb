{
 "cells": [
  {
   "cell_type": "markdown",
   "id": "968c4e1e",
   "metadata": {},
   "source": [
    "## Day 14\n",
    "\n",
    "https://adventofcode.com/2023/day/14"
   ]
  },
  {
   "cell_type": "code",
   "execution_count": 67,
   "id": "761e29f7",
   "metadata": {},
   "outputs": [],
   "source": [
    "import numpy as np\n",
    "\n",
    "EMPTY  = 0\n",
    "ROUND  = 1\n",
    "SQUARE = 2\n",
    "\n",
    "def readInput14(infile):\n",
    "    with open(infile) as f:\n",
    "        lines = [ l.strip(\"\\n\") for l in f.readlines() ]\n",
    "        rocks = np.zeros((len(lines),len(lines[0])),dtype=int) \n",
    "        for j,l in enumerate(lines):\n",
    "            for i,r in enumerate(l):\n",
    "                if r==\"#\":\n",
    "                    rocks[j,i] = SQUARE\n",
    "                if r==\"O\":\n",
    "                    rocks[j,i] = ROUND\n",
    "        return rocks\n",
    "\n",
    "def tilt_north(rocks):\n",
    "    for j,l in enumerate(rocks):\n",
    "        for i,r in enumerate(l):\n",
    "            if r==ROUND:\n",
    "                jhere = j\n",
    "                while True:\n",
    "                    jnext = jhere-1\n",
    "                    if jnext<0:\n",
    "                        break\n",
    "                    if rocks[jnext,i]==EMPTY:\n",
    "                        rocks[jnext,i]=ROUND\n",
    "                        rocks[jhere,i]=EMPTY\n",
    "                        jhere = jnext\n",
    "                    else:\n",
    "                        break\n",
    "    return\n",
    "\n",
    "def load(rocks):\n",
    "    return sum([ (len(rocks)-j)*sum(l[l==ROUND]) for j,l in enumerate(rocks) ])\n",
    "\n",
    "def part1(infile):\n",
    "    rocks = readInput14(infile)\n",
    "    tilt_north(rocks)\n",
    "    return load(rocks)"
   ]
  },
  {
   "cell_type": "code",
   "execution_count": 68,
   "id": "62108df6",
   "metadata": {},
   "outputs": [
    {
     "name": "stdout",
     "output_type": "stream",
     "text": [
      "Test 1: 136\n",
      "Part 1: 108889\n"
     ]
    }
   ],
   "source": [
    "print(\"Test 1:\",part1(\"examples/example14.txt\"))\n",
    "print(\"Part 1:\",part1(\"AOC2023inputs/input14.txt\"))"
   ]
  },
  {
   "cell_type": "code",
   "execution_count": 130,
   "id": "4a5f7a25",
   "metadata": {},
   "outputs": [],
   "source": [
    "def title_cycle(rocks):\n",
    "    for _ in range(4):\n",
    "        tilt_north(rocks)\n",
    "        rocks = np.rot90(rocks,k=3)\n",
    "    return rocks\n",
    "\n",
    "def part2(infile):\n",
    "    rocks = readInput14(infile)\n",
    "    ncyclemax = 1_000_000_000\n",
    "    ncycle = 0\n",
    "    loads = {}\n",
    "    while True:\n",
    "        rocks = title_cycle(rocks)\n",
    "        ncycle += 1\n",
    "        h = hash(rocks.tobytes())\n",
    "        if h in loads.keys():\n",
    "            print(\"Found repetition at cycle {}!\".format(ncycle))\n",
    "            break\n",
    "        l = load(rocks)\n",
    "        loads[h] = (ncycle,l)\n",
    "        if ncycle==ncyclemax:\n",
    "            break\n",
    "    cycle_end = ncycle\n",
    "    cycle_start = loads[h][0]\n",
    "    init_range = cycle_start-1\n",
    "    loop_range = cycle_end-cycle_start\n",
    "    print(\"Cycle loop begins at cycle {} and ends at cycle {} (period = {})\".format(cycle_start,cycle_end-1,loop_range))\n",
    "    nloops = (ncyclemax-init_range)//loop_range\n",
    "    dcycle = (ncyclemax-init_range)%loop_range\n",
    "    load_index = dcycle+init_range\n",
    "    print(\"{} loops + {} cycles (after {} initial cycles) to reach load of {} cycles\".format(nloops,dcycle,init_range,ncyclemax))\n",
    "    print(\"Load of cycle {} corresponds to load of cycle {}\".format(ncyclemax,load_index))\n",
    "    for k,(c,l) in loads.items():\n",
    "        if c==load_index:\n",
    "            print(\"*** Final load = {} ***\".format(l))\n",
    "            return l"
   ]
  },
  {
   "cell_type": "code",
   "execution_count": 131,
   "id": "85accdaf",
   "metadata": {},
   "outputs": [
    {
     "name": "stdout",
     "output_type": "stream",
     "text": [
      "Found repetition at cycle 10!\n",
      "Cycle loop begins at cycle 3 and ends at cycle 9 (period = 7)\n",
      "142857142 loops + 4 cycles (after 2 initial cycles) to reach load of 1000000000 cycles\n",
      "Load of cycle 1000000000 corresponds to load of cycle 6\n",
      "*** Final load = 64 ***\n"
     ]
    },
    {
     "data": {
      "text/plain": [
       "64"
      ]
     },
     "execution_count": 131,
     "metadata": {},
     "output_type": "execute_result"
    }
   ],
   "source": [
    "part2(\"examples/example14.txt\")"
   ]
  },
  {
   "cell_type": "code",
   "execution_count": 132,
   "id": "8cd17afa",
   "metadata": {},
   "outputs": [
    {
     "name": "stdout",
     "output_type": "stream",
     "text": [
      "Found repetition at cycle 153!\n",
      "Cycle loop begins at cycle 139 and ends at cycle 152 (period = 14)\n",
      "71428561 loops + 8 cycles (after 138 initial cycles) to reach load of 1000000000 cycles\n",
      "Load of cycle 1000000000 corresponds to load of cycle 146\n",
      "*** Final load = 104671 ***\n"
     ]
    },
    {
     "data": {
      "text/plain": [
       "104671"
      ]
     },
     "execution_count": 132,
     "metadata": {},
     "output_type": "execute_result"
    }
   ],
   "source": [
    "part2(\"AOC2023inputs/input14.txt\")"
   ]
  },
  {
   "cell_type": "code",
   "execution_count": null,
   "id": "1aafe6d9",
   "metadata": {},
   "outputs": [],
   "source": []
  }
 ],
 "metadata": {
  "kernelspec": {
   "display_name": "Python 3 (ipykernel)",
   "language": "python",
   "name": "python3"
  },
  "language_info": {
   "codemirror_mode": {
    "name": "ipython",
    "version": 3
   },
   "file_extension": ".py",
   "mimetype": "text/x-python",
   "name": "python",
   "nbconvert_exporter": "python",
   "pygments_lexer": "ipython3",
   "version": "3.11.6"
  }
 },
 "nbformat": 4,
 "nbformat_minor": 5
}
