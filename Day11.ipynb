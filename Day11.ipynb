{
 "cells": [
  {
   "cell_type": "markdown",
   "id": "5a0f1ef4",
   "metadata": {},
   "source": [
    "## Day 11\n",
    "\n",
    "https://adventofcode.com/2023/day/11"
   ]
  },
  {
   "cell_type": "code",
   "execution_count": 110,
   "id": "05409104",
   "metadata": {},
   "outputs": [
    {
     "name": "stdout",
     "output_type": "stream",
     "text": [
      "Test 1: 374\n",
      "Part 1: 9799681\n"
     ]
    }
   ],
   "source": [
    "import numpy as np\n",
    "\n",
    "def readIntpu11(infile):\n",
    "    with open(infile) as f:\n",
    "        lines = [ l.strip(\"\\n\") for l in f.readlines() ]\n",
    "        grid = np.zeros((len(lines),len(lines[0])),dtype=int)\n",
    "        for j,l in enumerate(lines):\n",
    "            for i,v in enumerate(l):\n",
    "                if v==\"#\":\n",
    "                    grid[j,i]=1\n",
    "        return grid\n",
    "\n",
    "def manhattan(a,b):\n",
    "    xa,ya = a\n",
    "    xb,yb = b\n",
    "    return abs(yb-ya)+abs(xb-xa)\n",
    "\n",
    "def find_galaxies(grid):\n",
    "    galaxies = []\n",
    "    for j,l in enumerate(grid):\n",
    "        for i,v in enumerate(l):\n",
    "            if v:\n",
    "                galaxies.append((i,j))\n",
    "    return galaxies\n",
    "\n",
    "from itertools import combinations\n",
    "\n",
    "def part1(infile):\n",
    "    grid = readIntpu11(infile)\n",
    "\n",
    "    # Search for empy columns and rows\n",
    "    emptyrows = [ j for j,l in enumerate(grid) if not np.any(l) ]\n",
    "    emptycols = [ i for i in range(len(grid[0])) if not np.any(grid[:,i]) ]\n",
    "\n",
    "    # Expand space\n",
    "    for k,j in enumerate(emptyrows):\n",
    "        grid = np.insert(grid, j+k, 0, axis=0)\n",
    "    for k,i in enumerate(emptycols):\n",
    "        grid = np.insert(grid, i+k, 0, axis=1)\n",
    "\n",
    "    # Save galaxy position in expanded space\n",
    "    galaxies = find_galaxies(grid)\n",
    "    \n",
    "    # Compute minimal distances\n",
    "    return sum([manhattan(a,b)for a,b in combinations(galaxies,2)])\n",
    "\n",
    "print(\"Test 1:\",part1(\"examples/example11.txt\"))\n",
    "print(\"Part 1:\",part1(\"AOC2023inputs/input11.txt\"))"
   ]
  },
  {
   "cell_type": "code",
   "execution_count": 111,
   "id": "8a776cdb",
   "metadata": {},
   "outputs": [],
   "source": [
    "def part2(infile,expand=1):\n",
    "    grid = readIntpu11(infile)\n",
    "\n",
    "    # Save galaxy position in original space\n",
    "    galaxies = find_galaxies(grid)\n",
    "\n",
    "    # Search for empy columns and rows\n",
    "    emptyrows = [ j for j,l in enumerate(grid) if not np.any(l) ]\n",
    "    emptycols = [ i for i in range(len(grid[0])) if not np.any(grid[:,i]) ]\n",
    "\n",
    "    # Scale galaxies potions according to expanding rate\n",
    "    galaxies_expand = []\n",
    "    for x,y in galaxies:\n",
    "        # how many empty rows and columns before current galaxy?\n",
    "        ex = sum([ 1 for r in emptycols if r<x ])\n",
    "        ey = sum([ 1 for r in emptyrows if r<y ])\n",
    "        # scale galaxy position accordingly\n",
    "        gnew = (x+ex*(expand-1),y+ey*(expand-1))\n",
    "        galaxies_expand.append(gnew)\n",
    "\n",
    "    # Compute minimal distances\n",
    "    return sum([manhattan(a,b)for a,b in combinations(galaxies_expand,2)])"
   ]
  },
  {
   "cell_type": "code",
   "execution_count": 112,
   "id": "b693fbcc",
   "metadata": {},
   "outputs": [
    {
     "name": "stdout",
     "output_type": "stream",
     "text": [
      "Test 1  : 374\n",
      "Part 1  : 9799681\n",
      "----------------------\n",
      "Test 2-1: 1030\n",
      "Test 2-2: 8410\n",
      "Part 2  : 513171773355\n"
     ]
    }
   ],
   "source": [
    "print(\"Test 1  :\",part2(\"examples/example11.txt\",expand=2))\n",
    "print(\"Part 1  :\",part2(\"AOC2023inputs/input11.txt\",expand=2))\n",
    "print(\"-\"*22)\n",
    "print(\"Test 2-1:\",part2(\"examples/example11.txt\",expand=10))\n",
    "print(\"Test 2-2:\",part2(\"examples/example11.txt\",expand=100))   \n",
    "print(\"Part 2  :\",part2(\"AOC2023inputs/input11.txt\",expand=1_000_000))"
   ]
  },
  {
   "cell_type": "code",
   "execution_count": null,
   "id": "af0f608c",
   "metadata": {},
   "outputs": [],
   "source": []
  }
 ],
 "metadata": {
  "kernelspec": {
   "display_name": "Python 3 (ipykernel)",
   "language": "python",
   "name": "python3"
  },
  "language_info": {
   "codemirror_mode": {
    "name": "ipython",
    "version": 3
   },
   "file_extension": ".py",
   "mimetype": "text/x-python",
   "name": "python",
   "nbconvert_exporter": "python",
   "pygments_lexer": "ipython3",
   "version": "3.11.6"
  }
 },
 "nbformat": 4,
 "nbformat_minor": 5
}
