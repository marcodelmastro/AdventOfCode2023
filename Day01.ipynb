{
 "cells": [
  {
   "cell_type": "markdown",
   "id": "a036a215",
   "metadata": {},
   "source": [
    "## Day 1\n",
    "\n",
    "https://adventofcode.com/2023"
   ]
  },
  {
   "cell_type": "code",
   "execution_count": 7,
   "id": "e2274636",
   "metadata": {},
   "outputs": [],
   "source": [
    "def scan(l):\n",
    "    for c in l:\n",
    "        try:\n",
    "            a = int(c)\n",
    "            return c\n",
    "        except:\n",
    "            continue\n",
    "    return '0'\n",
    "\n",
    "def solve1(infile):\n",
    "    with open(infile) as f:\n",
    "        lines = f.read().split()  \n",
    "        return sum([ int(scan(l)+scan(l[::-1])) for l in lines ])\n",
    "    \n",
    "numbers = {\n",
    "    'one'  : '1',\n",
    "    'two'  : '2', \n",
    "    'three': '3',\n",
    "    'four' : '4',\n",
    "    'five' : '5',\n",
    "    'six'  : '6',\n",
    "    'seven': '7',\n",
    "    'eight': '8',\n",
    "    'nine' : '9',\n",
    "}\n",
    "\n",
    "def scan2(l,invert=False):\n",
    "    for i in range(len(l)-4): # scan in window of lenght 5 for literal numbers\n",
    "        l5 = l[i:i+5]\n",
    "        l5a = l5\n",
    "        if invert: # invert when scanning from the end of the string...\n",
    "            l5a = l5[::-1]\n",
    "        for n in numbers.keys():\n",
    "            l5a = l5a.replace(n,numbers[n])\n",
    "        if invert: # ... but invert back when searching for the first number in the partial string\n",
    "            l5a = l5a[::-1]\n",
    "        n = scan(l5a)\n",
    "        if n!='0':\n",
    "            return n\n",
    "    return scan(l) # handle special cases of short strings where no literal number was found\n",
    "\n",
    "def solve2(infile):\n",
    "    with open(infile) as f:\n",
    "        lines = f.read().split()\n",
    "        return sum([ int(scan2(l)+scan2(l[::-1],invert=True)) for l in lines ])"
   ]
  },
  {
   "cell_type": "code",
   "execution_count": 8,
   "id": "30cccc65",
   "metadata": {},
   "outputs": [
    {
     "name": "stdout",
     "output_type": "stream",
     "text": [
      "Test 1: 142\n",
      "Part 1: 56506\n"
     ]
    }
   ],
   "source": [
    "print(\"Test 1:\", solve1(\"examples/example01-1.txt\"))\n",
    "print(\"Part 1:\", solve1(\"AOC2023inputs/input01.txt\"))"
   ]
  },
  {
   "cell_type": "code",
   "execution_count": 9,
   "id": "36a0488f",
   "metadata": {},
   "outputs": [
    {
     "name": "stdout",
     "output_type": "stream",
     "text": [
      "Test 2: 281\n",
      "Part 2: 56017\n"
     ]
    }
   ],
   "source": [
    "print(\"Test 2:\", solve2(\"examples/example01-2.txt\"))\n",
    "print(\"Part 2:\", solve2(\"AOC2023inputs/input01.txt\"))"
   ]
  },
  {
   "cell_type": "code",
   "execution_count": null,
   "id": "7ebed7ad",
   "metadata": {},
   "outputs": [],
   "source": []
  }
 ],
 "metadata": {
  "kernelspec": {
   "display_name": "Python 3 (ipykernel)",
   "language": "python",
   "name": "python3"
  },
  "language_info": {
   "codemirror_mode": {
    "name": "ipython",
    "version": 3
   },
   "file_extension": ".py",
   "mimetype": "text/x-python",
   "name": "python",
   "nbconvert_exporter": "python",
   "pygments_lexer": "ipython3",
   "version": "3.11.6"
  }
 },
 "nbformat": 4,
 "nbformat_minor": 5
}
