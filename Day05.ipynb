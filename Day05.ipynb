{
 "cells": [
  {
   "cell_type": "markdown",
   "id": "7a938752",
   "metadata": {},
   "source": [
    "## Day 5\n",
    "\n",
    "https://adventofcode.com/2023/day/5"
   ]
  },
  {
   "cell_type": "code",
   "execution_count": 1,
   "id": "fd181ee3",
   "metadata": {},
   "outputs": [],
   "source": [
    "import re\n",
    "\n",
    "def splitInput(items):\n",
    "    return [[ int(d) for d in re.findall(\"\\d+\",m) ] for m in items.strip(\"\\n\").split('\\n')[1:] ]\n",
    "\n",
    "def readInput05(infile):\n",
    "    with open(infile) as f:\n",
    "        items = f.read().split(\"\\n\\n\")\n",
    "        seeds = [int(s) for s in re.findall(\"\\d+\",items[0].split(\": \")[1])]\n",
    "        almanacs = []\n",
    "        for item in items[1:]:\n",
    "            m = splitInput(item)\n",
    "            almanacs.append(Almanac(m))\n",
    "        return seeds, almanacs\n",
    "\n",
    "class Almanac:\n",
    "    def __init__(self,maps):\n",
    "        self.maps = maps\n",
    "        self.b = []\n",
    "        for a in self.maps:\n",
    "            self.b.append((a[1],a[1]+a[2]))\n",
    "        self.b = sorted(self.b)\n",
    "        \n",
    "    def destination(self,source):\n",
    "        for dest_start,source_start,lenght in self.maps:\n",
    "            if source_start<=source<source_start+lenght:\n",
    "                return dest_start+(source-source_start)\n",
    "        return source\n",
    "\n",
    "    def boundaries(self):\n",
    "        return self.b\n",
    "\n",
    "def part1(infile,verbose=False):\n",
    "    labels = [ \"soil\", \"fertilizer\", \"water\", \"light\", \"temperature\", \"humidity\", \"location\" ]\n",
    "    seeds, almanacs = readInput05(infile)\n",
    "    locations = []\n",
    "    for s in seeds:\n",
    "        d = s\n",
    "        if verbose: print(\"seed {}\".format(s),end=\" \")\n",
    "        for l,a in zip(labels,almanacs):\n",
    "            d = a.destination(s)\n",
    "            if verbose: print(\"{} {}\".format(l,d),end=\" \")\n",
    "            s = d\n",
    "        locations.append(d)\n",
    "        if verbose: print()\n",
    "    return min(locations)\n",
    "\n",
    "from intervaltree import Interval, IntervalTree\n",
    "\n",
    "def part2(infile):\n",
    "    seeds, almanacs = readInput05(infile)\n",
    "    ranges = IntervalTree([Interval(s,s+ds) for s,ds in zip(seeds[::2],seeds[1::2])])\n",
    "    for a in almanacs:\n",
    "        for beg,end in a.boundaries():\n",
    "            ranges.slice(beg)\n",
    "            ranges.slice(end)\n",
    "        ranges_new = IntervalTree([Interval(a.destination(r.begin), a.destination(r.end-1)+1) for r in ranges])\n",
    "        ranges_new.merge_overlaps()\n",
    "        ranges = ranges_new\n",
    "    return sorted(ranges_new)[0].begin"
   ]
  },
  {
   "cell_type": "code",
   "execution_count": 2,
   "id": "eee9a63f",
   "metadata": {},
   "outputs": [
    {
     "name": "stdout",
     "output_type": "stream",
     "text": [
      "seed 79 soil 81 fertilizer 81 water 81 light 74 temperature 78 humidity 78 location 82 \n",
      "seed 14 soil 14 fertilizer 53 water 49 light 42 temperature 42 humidity 43 location 43 \n",
      "seed 55 soil 57 fertilizer 57 water 53 light 46 temperature 82 humidity 82 location 86 \n",
      "seed 13 soil 13 fertilizer 52 water 41 light 34 temperature 34 humidity 35 location 35 \n"
     ]
    },
    {
     "data": {
      "text/plain": [
       "35"
      ]
     },
     "execution_count": 2,
     "metadata": {},
     "output_type": "execute_result"
    }
   ],
   "source": [
    "part1(\"examples/example05.txt\",verbose=True)"
   ]
  },
  {
   "cell_type": "code",
   "execution_count": 3,
   "id": "6d0baac5",
   "metadata": {},
   "outputs": [
    {
     "name": "stdout",
     "output_type": "stream",
     "text": [
      "Test 1: 35\n",
      "Part 1: 403695602\n"
     ]
    }
   ],
   "source": [
    "print(\"Test 1:\", part1(\"examples/example05.txt\"))\n",
    "print(\"Part 1:\", part1(\"AOC2023inputs/input05.txt\"))"
   ]
  },
  {
   "cell_type": "code",
   "execution_count": 4,
   "id": "0da7ed17",
   "metadata": {},
   "outputs": [
    {
     "name": "stdout",
     "output_type": "stream",
     "text": [
      "Test 2: 46\n",
      "Part 2: 219529182\n"
     ]
    }
   ],
   "source": [
    "print(\"Test 2:\", part2(\"examples/example05.txt\"))\n",
    "print(\"Part 2:\", part2(\"AOC2023inputs/input05.txt\"))"
   ]
  },
  {
   "cell_type": "code",
   "execution_count": 30,
   "id": "ad4d28f1",
   "metadata": {},
   "outputs": [
    {
     "name": "stdout",
     "output_type": "stream",
     "text": [
      "Part 2: 219529182\n",
      "Execution time: 0.025 s\n"
     ]
    }
   ],
   "source": [
    "import time\n",
    "start = time.time()\n",
    "p2 = part2(\"AOC2023inputs/input05.txt\")\n",
    "stop = time.time()\n",
    "print(\"Part 2:\",p2)\n",
    "print(\"Execution time: {:4.3f} s\".format(stop-start))"
   ]
  },
  {
   "cell_type": "code",
   "execution_count": null,
   "id": "b299516d",
   "metadata": {},
   "outputs": [],
   "source": []
  }
 ],
 "metadata": {
  "kernelspec": {
   "display_name": "Python 3 (ipykernel)",
   "language": "python",
   "name": "python3"
  },
  "language_info": {
   "codemirror_mode": {
    "name": "ipython",
    "version": 3
   },
   "file_extension": ".py",
   "mimetype": "text/x-python",
   "name": "python",
   "nbconvert_exporter": "python",
   "pygments_lexer": "ipython3",
   "version": "3.11.6"
  }
 },
 "nbformat": 4,
 "nbformat_minor": 5
}
