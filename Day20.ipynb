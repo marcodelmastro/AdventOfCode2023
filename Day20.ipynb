{
 "cells": [
  {
   "cell_type": "markdown",
   "id": "ea1fdafa",
   "metadata": {},
   "source": [
    "## Day 20\n",
    "\n",
    "https://adventofcode.com/2023/day/20"
   ]
  },
  {
   "cell_type": "code",
   "execution_count": 21,
   "id": "fed629cf",
   "metadata": {},
   "outputs": [
    {
     "name": "stdout",
     "output_type": "stream",
     "text": [
      "% a    | OUT: ['inv', 'con']       | MEM: 0\n",
      "& inv  | OUT: ['b']                | MEM: {'a': 0}\n",
      "% b    | OUT: ['con']              | MEM: 0\n",
      "& con  | OUT: ['output']           | MEM: {'a': 0, 'b': 0}\n"
     ]
    }
   ],
   "source": [
    "class Module():\n",
    "    def __init__(self,name,typ,outputs):\n",
    "        self.name = name\n",
    "        self.typ = typ\n",
    "        self.outputs = outputs\n",
    "        # initialize memory\n",
    "        if self.typ == \"%\": # Flip-flop \n",
    "            self.memory = 0\n",
    "        else: # Conjunction\n",
    "            self.memory = {} # dictionary of all connections and their value. Needs to be initialises.\n",
    "            \n",
    "    def __repr__(self):\n",
    "        return \"{} {:4s} | OUT: {:20s} | MEM: {}\".format(self.typ,self.name,str(self.outputs),self.memory)\n",
    "\n",
    "    def getpulse(self,origin,pulse):\n",
    "        if self.typ == \"&\": # conjunction\n",
    "            self.memory[origin] = pulse # update memory with received pulse\n",
    "            if all([ v==1 for i,v in self.memory.items() ]):\n",
    "                return [ (o,0) for o in self.outputs ]\n",
    "            else:\n",
    "                return [ (o,1) for o in self.outputs ]\n",
    "        else: # Flip-flop\n",
    "            # If a flip-flop module receives a high pulse, it is ignored and nothing happens. \n",
    "            if pulse==0:\n",
    "                self.memory = abs(self.memory-1) # flips status\n",
    "                return [ (o,self.memory) for o in self.outputs ]\n",
    "            else:\n",
    "                return []\n",
    "    \n",
    "def readInput20(infile):\n",
    "    modules = {} \n",
    "    broadcasts = []\n",
    "    with open(infile) as f:\n",
    "        for l in f.read().strip().splitlines():\n",
    "            name,outputs = l.split(\" -> \")\n",
    "            if name == \"broadcaster\":\n",
    "                broadcasts = outputs.split(\", \")\n",
    "            else:\n",
    "                typ = name[0]\n",
    "                name = name[1:]\n",
    "                modules[name] = Module(name,typ,outputs.split(\", \"))\n",
    "        # initialize conjuctions inputs\n",
    "        for n,m in modules.items():\n",
    "            for o in m.outputs:\n",
    "                if o!=\"output\" and o in modules.keys() and modules[o].typ == \"&\": # is a conjuction\n",
    "                    modules[o].memory[n] = 0\n",
    "        return modules, broadcasts\n",
    "        \n",
    "modules, broadcasts = readInput20(\"examples/example20-2.txt\")\n",
    "\n",
    "#print(broadcasts)\n",
    "for n,m in modules.items():\n",
    "    print(m)"
   ]
  },
  {
   "cell_type": "code",
   "execution_count": 22,
   "id": "f0399869",
   "metadata": {},
   "outputs": [],
   "source": [
    "from queue import Queue\n",
    "\n",
    "def push_button(infile,npush=1000,verbose=False,part=1):\n",
    "\n",
    "    modules, broadcasts = readInput20(infile)\n",
    "    \n",
    "    low = 0\n",
    "    high = 0\n",
    "    rx = -1\n",
    "    \n",
    "    i = 0\n",
    "    \n",
    "    #for i in range(npush): # every cycle is a button push\n",
    "    while True:\n",
    "        \n",
    "        i+=1\n",
    "        rx = -1\n",
    "        \n",
    "        # push button\n",
    "        if verbose: print(\"button 0 -> B\")\n",
    "        low+=1\n",
    "        \n",
    "        # enqueue broadcast signals\n",
    "        q = Queue()\n",
    "        for target in broadcasts:\n",
    "            q.put((\"B\",target,0)) # origin, target, pulse\n",
    "            \n",
    "        # process all pulses in queue until empty\n",
    "        while not q.empty():\n",
    "            \n",
    "            origin,target,pulse = q.get()      \n",
    "            if verbose: print(origin,pulse,\"->\",target)\n",
    "\n",
    "            if pulse==0:\n",
    "                low+=1\n",
    "            else:\n",
    "                high+=1 \n",
    "            \n",
    "            if target in modules.keys(): # ignore disconnected modules (e.g. rx) and the 'output' node\n",
    "                reply = modules[target].getpulse(origin,pulse)\n",
    "                for t,p in reply:\n",
    "                    q.put((target,t,p))\n",
    "\n",
    "            if target==\"rx\":\n",
    "                rx = pulse\n",
    "\n",
    "        if part==1 and i==npush:\n",
    "            break\n",
    "        \n",
    "        if part==2: # Part 2 brute forcing attempt (not worth!)\n",
    "            if i%10_000==0:\n",
    "                print(\"*\",i)\n",
    "            if rx==0:\n",
    "                print(i+1)\n",
    "                return i+1\n",
    "        \n",
    "    if verbose: print(\"LOW:\",low,\"HIGH:\",high)\n",
    "    return low*high\n",
    "\n",
    "def part1(infile):\n",
    "    return push_button(infile)"
   ]
  },
  {
   "cell_type": "code",
   "execution_count": 23,
   "id": "452c1e04",
   "metadata": {},
   "outputs": [
    {
     "name": "stdout",
     "output_type": "stream",
     "text": [
      "button 0 -> B\n",
      "B 0 -> a\n",
      "B 0 -> b\n",
      "B 0 -> c\n",
      "a 1 -> b\n",
      "b 1 -> c\n",
      "c 1 -> inv\n",
      "inv 0 -> a\n",
      "a 0 -> b\n",
      "b 0 -> c\n",
      "c 0 -> inv\n",
      "inv 1 -> a\n",
      "LOW: 8 HIGH: 4\n"
     ]
    },
    {
     "data": {
      "text/plain": [
       "32"
      ]
     },
     "execution_count": 23,
     "metadata": {},
     "output_type": "execute_result"
    }
   ],
   "source": [
    "push_button(\"examples/example20-1.txt\",1,True)"
   ]
  },
  {
   "cell_type": "code",
   "execution_count": 24,
   "id": "2331cea0",
   "metadata": {},
   "outputs": [
    {
     "name": "stdout",
     "output_type": "stream",
     "text": [
      "Test 1-1: 32000000\n",
      "Test 1-2: 11687500\n",
      "Part 1  : 670984704\n"
     ]
    }
   ],
   "source": [
    "print(\"Test 1-1:\",part1(\"examples/example20-1.txt\")) # 32000000\n",
    "print(\"Test 1-2:\",part1(\"examples/example20-2.txt\")) # 670984704\n",
    "print(\"Part 1  :\",part1(\"AOC2023inputs/input20.txt\")) # 670984704"
   ]
  },
  {
   "cell_type": "markdown",
   "id": "c4ca3003",
   "metadata": {},
   "source": [
    "### Part 2\n",
    "\n",
    "The unconnect module I spotted in Part 1 (`nx`) is now the center of Part 2. Simply bruteforcing part 1 solution does not seem to work, some reverse engineering of the module network seems to be needed.\n",
    "\n",
    "Observations:\n",
    "\n",
    "* `rx` is connected only to `zr`\n",
    "* `zr` is a conjunction connected to `gc`, `sz`, `cm`, `xf`."
   ]
  },
  {
   "cell_type": "code",
   "execution_count": 53,
   "id": "4a406e55",
   "metadata": {},
   "outputs": [
    {
     "name": "stdout",
     "output_type": "stream",
     "text": [
      "& zr   | OUT: ['rx']               | MEM: {'gc': 0, 'sz': 0, 'cm': 0, 'xf': 0}\n",
      "& gc   | OUT: ['zr']               | MEM: {'dn': 0}\n",
      "& sz   | OUT: ['zr']               | MEM: {'ms': 0}\n",
      "& cm   | OUT: ['zr']               | MEM: {'ks': 0}\n",
      "& xf   | OUT: ['zr']               | MEM: {'tc': 0}\n"
     ]
    }
   ],
   "source": [
    "modules, broadcasts = readInput20(\"AOC2023inputs/input20.txt\")\n",
    "\n",
    "print(modules['zr'])\n",
    "\n",
    "print(modules['gc'])\n",
    "print(modules['sz'])\n",
    "print(modules['cm'])\n",
    "print(modules['xf'])"
   ]
  },
  {
   "cell_type": "markdown",
   "id": "85c8906d",
   "metadata": {},
   "source": [
    "In order to get a low pulse to `rx`, I need `zr` to issue a low-pulse. Since `zx` is a conjuction, in order to issue a low pulse, all 4 inputs need to be high. \n",
    "\n",
    "I suspect that these inputs will cycle between being low and high with very different cycles (probably with coprime periods): I could search for these cycles, then compute their least commom multiple..."
   ]
  },
  {
   "cell_type": "code",
   "execution_count": 54,
   "id": "16e718c6",
   "metadata": {},
   "outputs": [],
   "source": [
    "def search_cycles(infile,feed_nx='zr'):\n",
    "    modules, broadcasts = readInput20(infile)\n",
    "    inputs_fire = dict(modules[feed_nx].memory)    \n",
    "    i = 0\n",
    "    while True:\n",
    "        # --- push button start\n",
    "        i+=1        \n",
    "        q = Queue()\n",
    "        for target in broadcasts:\n",
    "            q.put((\"B\",target,0))\n",
    "        while not q.empty():   \n",
    "            origin,target,pulse = q.get()\n",
    "            ### ----\n",
    "            if target == feed_nx and pulse==1:\n",
    "                inputs_fire[origin] = i # store first button push where the zr inputs fire (assuming it's a period)\n",
    "                if all(inputs_fire.values()):\n",
    "                    return inputs_fire\n",
    "            ### ----\n",
    "            if target in modules.keys():\n",
    "                reply = modules[target].getpulse(origin,pulse)\n",
    "                for t,p in reply:\n",
    "                    q.put((target,t,p))\n",
    "        # --- push button end  \n",
    "    return"
   ]
  },
  {
   "cell_type": "code",
   "execution_count": 55,
   "id": "45c8ed83",
   "metadata": {},
   "outputs": [
    {
     "data": {
      "text/plain": [
       "{'gc': 3853, 'sz': 4093, 'cm': 4091, 'xf': 4073}"
      ]
     },
     "execution_count": 55,
     "metadata": {},
     "output_type": "execute_result"
    }
   ],
   "source": [
    "inputs_fire = search_cycles(\"AOC2023inputs/input20.txt\",feed_nx='zr')\n",
    "inputs_fire"
   ]
  },
  {
   "cell_type": "code",
   "execution_count": 57,
   "id": "927a83a0",
   "metadata": {},
   "outputs": [
    {
     "name": "stdout",
     "output_type": "stream",
     "text": [
      "Part 2: 262775362119547\n"
     ]
    }
   ],
   "source": [
    "import numpy as np\n",
    "\n",
    "def part2():\n",
    "    inputs_fire = search_cycles(\"AOC2023inputs/input20.txt\",feed_nx='zr')\n",
    "    periods = list(inputs_fire.values())\n",
    "    period_nx = np.lcm.reduce(periods)\n",
    "    return period_nx\n",
    "\n",
    "print(\"Part 2:\",part2())"
   ]
  },
  {
   "cell_type": "code",
   "execution_count": null,
   "id": "e34c66c0",
   "metadata": {},
   "outputs": [],
   "source": []
  }
 ],
 "metadata": {
  "kernelspec": {
   "display_name": "Python 3 (ipykernel)",
   "language": "python",
   "name": "python3"
  },
  "language_info": {
   "codemirror_mode": {
    "name": "ipython",
    "version": 3
   },
   "file_extension": ".py",
   "mimetype": "text/x-python",
   "name": "python",
   "nbconvert_exporter": "python",
   "pygments_lexer": "ipython3",
   "version": "3.11.6"
  }
 },
 "nbformat": 4,
 "nbformat_minor": 5
}
