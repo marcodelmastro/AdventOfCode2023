{
 "cells": [
  {
   "cell_type": "markdown",
   "id": "cb48de1d",
   "metadata": {},
   "source": [
    "## Day 6\n",
    "\n",
    "https://adventofcode.com/2023/day/6"
   ]
  },
  {
   "cell_type": "code",
   "execution_count": 8,
   "id": "6340b371",
   "metadata": {},
   "outputs": [],
   "source": [
    "import re\n",
    "\n",
    "def readInput06(infile):\n",
    "    with open(infile) as f:\n",
    "        v = [[int(i) for i in re.findall(\"\\d+\",l) ] for l in f.readlines()]\n",
    "        return [ (t,r) for t,r in zip(v[0],v[1]) ]\n",
    "\n",
    "from functools import reduce\n",
    "from operator import mul\n",
    "\n",
    "def part1(infile):\n",
    "    races = readInput06(infile)\n",
    "    beat_record = [ sum([ c*(t-c)>r for c in range(1,t) ]) for t,r in races ]\n",
    "    return reduce(mul,beat_record,1)"
   ]
  },
  {
   "cell_type": "code",
   "execution_count": 23,
   "id": "cecdcbad",
   "metadata": {},
   "outputs": [
    {
     "name": "stdout",
     "output_type": "stream",
     "text": [
      "Test 1: 288\n",
      "Part 1: 505494\n"
     ]
    }
   ],
   "source": [
    "print(\"Test 1:\",part1(\"examples/example06.txt\"))\n",
    "print(\"Part 1:\",part1(\"AOC2023inputs/input06.txt\"))"
   ]
  },
  {
   "cell_type": "markdown",
   "id": "c1a6dcf5",
   "metadata": {},
   "source": [
    "### Analytical solution\n",
    "\n",
    "The problem can also be approached analytically by solving the equation:\n",
    "\n",
    "$$ -c^2 + t c - r>0 $$\n",
    "\n",
    "where $c$ is the charging time, $r$ is the time record to beat, and $t$ is the race time. The solution is:\n",
    "\n",
    "$$\\frac{1}{2} (t - \\sqrt{t^2 - 4 r}) < c <  \\frac{1}{2} ( t + \\sqrt{t^2 - 4 r})$$\n",
    "\n",
    "Some manipulation is needed since we need integer solutions, but this would come handy for Part 2 where brute-focing approach does not work"
   ]
  },
  {
   "cell_type": "code",
   "execution_count": 53,
   "id": "b4d00202",
   "metadata": {},
   "outputs": [],
   "source": [
    "from math import sqrt\n",
    "\n",
    "def solveEquation(t,r):\n",
    "    d = sqrt(t**2-4*r)\n",
    "    return (t-d)/2, (t+d)/2\n",
    "\n",
    "def beatRecord(c,t,r):\n",
    "    return c*(t-c)>r\n",
    "\n",
    "def findBeatInt(cx,t,r,up=True):\n",
    "    c = int(cx)\n",
    "    while True:\n",
    "        if beatRecord(c,t,r):\n",
    "            return c\n",
    "        if up:\n",
    "            c+=1\n",
    "        else:\n",
    "            c-=1\n",
    "\n",
    "def solveRace(t,r):\n",
    "    cmin,cmax = solveEquation(t,r)\n",
    "    c1 = findBeatInt(int(cmin)-1,t,r,up=True)\n",
    "    c2 = findBeatInt(int(cmax)+1,t,r,up=False)\n",
    "    return c2-c1+1\n",
    "\n",
    "def part1analytic(infile):\n",
    "    return reduce(mul,[solveRace(t,r) for t,r in readInput06(infile)],1)"
   ]
  },
  {
   "cell_type": "code",
   "execution_count": 57,
   "id": "e8402a66",
   "metadata": {},
   "outputs": [
    {
     "name": "stdout",
     "output_type": "stream",
     "text": [
      "Test 1: 288\n",
      "Part 1: 505494\n"
     ]
    }
   ],
   "source": [
    "print(\"Test 1:\",part1analytic(\"examples/example06.txt\"))\n",
    "print(\"Part 1:\",part1analytic(\"AOC2023inputs/input06.txt\"))"
   ]
  },
  {
   "cell_type": "code",
   "execution_count": 69,
   "id": "fccc600b",
   "metadata": {},
   "outputs": [],
   "source": [
    "def readInput06kern(infile):\n",
    "    with open(infile) as f:\n",
    "        return tuple([int(re.findall(\"\\d+\",l.replace(\" \",\"\"))[0]) for l in f.readlines()])\n",
    "    \n",
    "def part2analytic(infile):\n",
    "    t,r = readInput06kern(infile)\n",
    "    return solveRace(t,r)"
   ]
  },
  {
   "cell_type": "code",
   "execution_count": 71,
   "id": "e97570f7",
   "metadata": {},
   "outputs": [
    {
     "name": "stdout",
     "output_type": "stream",
     "text": [
      "Test 2: 71503\n",
      "Part 2: 23632299\n"
     ]
    }
   ],
   "source": [
    "print(\"Test 2:\",part2analytic(\"examples/example06.txt\"))\n",
    "print(\"Part 2:\",part2analytic(\"AOC2023inputs/input06.txt\"))"
   ]
  },
  {
   "cell_type": "code",
   "execution_count": null,
   "id": "e0bc83e1",
   "metadata": {},
   "outputs": [],
   "source": []
  }
 ],
 "metadata": {
  "kernelspec": {
   "display_name": "Python 3 (ipykernel)",
   "language": "python",
   "name": "python3"
  },
  "language_info": {
   "codemirror_mode": {
    "name": "ipython",
    "version": 3
   },
   "file_extension": ".py",
   "mimetype": "text/x-python",
   "name": "python",
   "nbconvert_exporter": "python",
   "pygments_lexer": "ipython3",
   "version": "3.11.6"
  }
 },
 "nbformat": 4,
 "nbformat_minor": 5
}
