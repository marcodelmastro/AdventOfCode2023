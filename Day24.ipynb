{
 "cells": [
  {
   "cell_type": "code",
   "execution_count": 40,
   "metadata": {},
   "outputs": [],
   "source": [
    "## Day 24"
   ]
  },
  {
   "cell_type": "code",
   "execution_count": 39,
   "metadata": {},
   "outputs": [],
   "source": [
    "def readInput24(infile):\n",
    "    with open(infile) as f:\n",
    "        points = []\n",
    "        for l in f.read().strip().splitlines():\n",
    "            x = tuple([int(n) for n in l.split(\" @ \")[0].split(\", \") ])\n",
    "            v = tuple([int(n) for n in l.split(\" @ \")[1].split(\", \") ])\n",
    "            points.append((x,v))\n",
    "        return points"
   ]
  },
  {
   "cell_type": "code",
   "execution_count": 33,
   "metadata": {},
   "outputs": [],
   "source": [
    "def line(x,y,vx,vy):\n",
    "    m = vy/vx\n",
    "    q = -m*x+y\n",
    "    return m, q\n",
    "\n",
    "def cross(X1,X2):\n",
    "    # get points coordinates and speeds\n",
    "    x1,y1,z1 = X1[0]\n",
    "    vx1,vy1,vz1 = X1[1]\n",
    "    x2,y2,z2 = X2[0]\n",
    "    vx2,vy2,vz2 = X2[1]\n",
    "    # compute determinant of speed vectors to check whether colinear\n",
    "    det = vx1*vy2 - vy1*vx2\n",
    "    if det==0:\n",
    "        return None, None\n",
    "    # trajectory functions\n",
    "    m1,q1 = line(x1,y1,vx1,vy1)\n",
    "    m2,q2 = line(x2,y2,vx2,vy2)\n",
    "    # trajectory crossing point\n",
    "    xc = (q2-q1)/(m1-m2)\n",
    "    yc = m1*xc+q1\n",
    "    # times of crossing\n",
    "    tc1 = (xc-x1)/vx1\n",
    "    tc2 = (xc-x2)/vx2\n",
    "    if tc1<0 or tc2<0:\n",
    "        return None, None\n",
    "    return xc, yc"
   ]
  },
  {
   "cell_type": "code",
   "execution_count": 35,
   "metadata": {},
   "outputs": [],
   "source": [
    "from itertools import combinations\n",
    "\n",
    "def count_crossings(points, xmin=7, xmax=27):\n",
    "    ncross = 0\n",
    "    for P1,P2 in combinations(points,2):\n",
    "        xc, yc = cross(P1,P2)\n",
    "        if xc and yc and xmin<=xc<=xmax and xmin<=yc<=xmax:\n",
    "            ncross += 1\n",
    "    return ncross\n",
    "\n",
    "def part1(infile, xmin=7, xmax=27):\n",
    "    points = readInput24(infile)\n",
    "    return count_crossings(points, xmin, xmax)"
   ]
  },
  {
   "cell_type": "code",
   "execution_count": 38,
   "metadata": {},
   "outputs": [
    {
     "name": "stdout",
     "output_type": "stream",
     "text": [
      "Test 1: 2\n",
      "Part 1: 15558\n"
     ]
    }
   ],
   "source": [
    "print(\"Test 1:\", part1(\"examples/example24.txt\",7,27))\n",
    "print(\"Part 1:\", part1(\"AOC2023inputs/input24.txt\",200000000000000,400000000000000))"
   ]
  },
  {
   "cell_type": "code",
   "execution_count": null,
   "metadata": {},
   "outputs": [],
   "source": []
  }
 ],
 "metadata": {
  "kernelspec": {
   "display_name": "Python 3 (ipykernel)",
   "language": "python",
   "name": "python3"
  },
  "language_info": {
   "codemirror_mode": {
    "name": "ipython",
    "version": 3
   },
   "file_extension": ".py",
   "mimetype": "text/x-python",
   "name": "python",
   "nbconvert_exporter": "python",
   "pygments_lexer": "ipython3",
   "version": "3.11.0"
  }
 },
 "nbformat": 4,
 "nbformat_minor": 4
}
