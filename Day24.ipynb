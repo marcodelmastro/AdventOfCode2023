{
 "cells": [
  {
   "cell_type": "markdown",
   "metadata": {},
   "source": [
    "## Day 24\n",
    "\n",
    "https://adventofcode.com/2023/day/24"
   ]
  },
  {
   "cell_type": "code",
   "execution_count": 3,
   "metadata": {},
   "outputs": [],
   "source": [
    "def readInput24(infile):\n",
    "    with open(infile) as f:\n",
    "        points = []\n",
    "        for l in f.read().strip().splitlines():\n",
    "            x = tuple([int(n) for n in l.split(\" @ \")[0].split(\", \") ])\n",
    "            v = tuple([int(n) for n in l.split(\" @ \")[1].split(\", \") ])\n",
    "            points.append((x,v))\n",
    "        return points"
   ]
  },
  {
   "cell_type": "markdown",
   "metadata": {},
   "source": [
    "### Part 1"
   ]
  },
  {
   "cell_type": "code",
   "execution_count": 2,
   "metadata": {},
   "outputs": [],
   "source": [
    "def line(x,y,vx,vy):\n",
    "    m = vy/vx\n",
    "    q = -m*x+y\n",
    "    return m, q\n",
    "\n",
    "def cross(X1,X2):\n",
    "    # get points coordinates and speeds\n",
    "    x1,y1,z1 = X1[0]\n",
    "    vx1,vy1,vz1 = X1[1]\n",
    "    x2,y2,z2 = X2[0]\n",
    "    vx2,vy2,vz2 = X2[1]\n",
    "    # compute determinant of speed vectors to check whether colinear\n",
    "    det = vx1*vy2 - vy1*vx2\n",
    "    if det==0:\n",
    "        return None, None\n",
    "    # trajectory functions\n",
    "    m1,q1 = line(x1,y1,vx1,vy1)\n",
    "    m2,q2 = line(x2,y2,vx2,vy2)\n",
    "    # trajectory crossing point\n",
    "    xc = (q2-q1)/(m1-m2)\n",
    "    yc = m1*xc+q1\n",
    "    # times of crossing\n",
    "    tc1 = (xc-x1)/vx1\n",
    "    tc2 = (xc-x2)/vx2\n",
    "    if tc1<0 or tc2<0:\n",
    "        return None, None\n",
    "    return xc, yc"
   ]
  },
  {
   "cell_type": "code",
   "execution_count": 3,
   "metadata": {},
   "outputs": [],
   "source": [
    "from itertools import combinations\n",
    "\n",
    "def count_crossings(points, xmin=7, xmax=27):\n",
    "    ncross = 0\n",
    "    for P1,P2 in combinations(points,2):\n",
    "        xc, yc = cross(P1,P2)\n",
    "        if xc and yc and xmin<=xc<=xmax and xmin<=yc<=xmax:\n",
    "            ncross += 1\n",
    "    return ncross\n",
    "\n",
    "def part1(infile, xmin=7, xmax=27):\n",
    "    points = readInput24(infile)\n",
    "    return count_crossings(points, xmin, xmax)"
   ]
  },
  {
   "cell_type": "code",
   "execution_count": 4,
   "metadata": {},
   "outputs": [
    {
     "name": "stdout",
     "output_type": "stream",
     "text": [
      "Test 1: 2\n",
      "Part 1: 15558\n"
     ]
    }
   ],
   "source": [
    "print(\"Test 1:\", part1(\"examples/example24.txt\",7,27))\n",
    "print(\"Part 1:\", part1(\"AOC2023inputs/input24.txt\",200000000000000,400000000000000))"
   ]
  },
  {
   "cell_type": "markdown",
   "metadata": {},
   "source": [
    "### Part 2"
   ]
  },
  {
   "cell_type": "markdown",
   "metadata": {},
   "source": [
    "<img src=\"./visualisation/day24part2_sol1.jpg\" width=\"600\" />\n",
    "<img src=\"./visualisation/day24part2_sol2.jpg\" width=\"600\" />"
   ]
  },
  {
   "cell_type": "code",
   "execution_count": 42,
   "metadata": {},
   "outputs": [],
   "source": [
    "from sympy import symbols, solve\n",
    "\n",
    "def part2(infile):\n",
    "\n",
    "    points = readInput24(infile)\n",
    "\n",
    "    x = symbols('x')\n",
    "    y = symbols('y')\n",
    "    z = symbols('z')\n",
    "    vx = symbols('vx')\n",
    "    vy = symbols('vy')\n",
    "    vz = symbols('vz')\n",
    "\n",
    "    X1, V1 = points[0]\n",
    "    X2, V2 = points[1]\n",
    "    X3, V3 = points[2]\n",
    "\n",
    "    x1,y1,z1 = X1\n",
    "    x2,y2,z2 = X2\n",
    "    x3,y3,z3 = X3\n",
    "    \n",
    "    vx1,vy1,vz1 = V1\n",
    "    vx2,vy2,vz2 = V2\n",
    "    vx3,vy3,vz3 = V3\n",
    "    \n",
    "    sols = solve(\n",
    "        [(x-x1)*(vy-vy1)-(y-y1)*(vx-vx1), (y-y1)*(vz-vz1)-(z-z1)*(vy-vy1), \n",
    "         (x-x2)*(vy-vy2)-(y-y2)*(vx-vx2), (y-y2)*(vz-vz2)-(z-z2)*(vy-vy2), \n",
    "         (x-x3)*(vy-vy3)-(y-y3)*(vx-vx3), (y-y3)*(vz-vz3)-(z-z3)*(vy-vy3) ] ,\n",
    "            [x, y, z, vx, vy, vz], dict=True)\n",
    "\n",
    "    # select solution with integer speed components\n",
    "    for s in sols:\n",
    "        if s[vx]==int(s[vx]) and s[vy]==int(s[vy]) and s[vz]==int(s[vz]):\n",
    "            print(s)\n",
    "            break\n",
    "    return s[x]+s[y]+s[z]"
   ]
  },
  {
   "cell_type": "code",
   "execution_count": 40,
   "metadata": {},
   "outputs": [
    {
     "name": "stdout",
     "output_type": "stream",
     "text": [
      "{vx: -3, vy: 1, vz: 2, x: 24, y: 13, z: 10}\n"
     ]
    },
    {
     "data": {
      "text/latex": [
       "$\\displaystyle 47$"
      ],
      "text/plain": [
       "47"
      ]
     },
     "execution_count": 40,
     "metadata": {},
     "output_type": "execute_result"
    }
   ],
   "source": [
    "part2(\"examples/example24.txt\")"
   ]
  },
  {
   "cell_type": "code",
   "execution_count": 41,
   "metadata": {},
   "outputs": [
    {
     "name": "stdout",
     "output_type": "stream",
     "text": [
      "{vx: 209, vy: -180, vz: 112, x: 159417177895037, y: 391842070130986, z: 214376796307819}\n"
     ]
    },
    {
     "data": {
      "text/latex": [
       "$\\displaystyle 765636044333842$"
      ],
      "text/plain": [
       "765636044333842"
      ]
     },
     "execution_count": 41,
     "metadata": {},
     "output_type": "execute_result"
    }
   ],
   "source": [
    "part2(\"AOC2023inputs/input24.txt\")"
   ]
  },
  {
   "cell_type": "code",
   "execution_count": null,
   "metadata": {},
   "outputs": [],
   "source": []
  }
 ],
 "metadata": {
  "kernelspec": {
   "display_name": "Python 3 (ipykernel)",
   "language": "python",
   "name": "python3"
  },
  "language_info": {
   "codemirror_mode": {
    "name": "ipython",
    "version": 3
   },
   "file_extension": ".py",
   "mimetype": "text/x-python",
   "name": "python",
   "nbconvert_exporter": "python",
   "pygments_lexer": "ipython3",
   "version": "3.11.0"
  }
 },
 "nbformat": 4,
 "nbformat_minor": 4
}
