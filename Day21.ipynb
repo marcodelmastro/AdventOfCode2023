{
 "cells": [
  {
   "cell_type": "markdown",
   "id": "06a5b958",
   "metadata": {},
   "source": [
    "## Day 21\n",
    "\n",
    "https://adventofcode.com/2023/day/21"
   ]
  },
  {
   "cell_type": "code",
   "execution_count": 13,
   "id": "db6b80b8",
   "metadata": {},
   "outputs": [],
   "source": [
    "def readInput21(infile):\n",
    "    with open(infile) as f:\n",
    "        lines = f.read().strip().splitlines()\n",
    "        grid = {}\n",
    "        S = (-1,-1)\n",
    "        for j,l in enumerate(lines):\n",
    "            for i,v in enumerate(l):\n",
    "                grid[(i,j)] = v\n",
    "                if v==\"S\":\n",
    "                    S = (i,j)\n",
    "        return grid, S, len(lines), len(lines[0])"
   ]
  },
  {
   "cell_type": "code",
   "execution_count": 10,
   "id": "1d1b10ed",
   "metadata": {},
   "outputs": [],
   "source": [
    "def part1(infile,nsteps = 6):\n",
    "    grid, S, ymax, xmax = readInput21(infile)\n",
    "    plots = {S}\n",
    "    dirs = [(+1,0),(-1,0),(0,+1),(0,-1)]\n",
    "    for _ in range(nsteps):\n",
    "        plots_new = set()\n",
    "        for x,y in plots:\n",
    "            for dx,dy in dirs:\n",
    "                P = (x+dx,y+dy)\n",
    "                if P in grid.keys() and grid[P]!=\"#\":\n",
    "                    plots_new.add(P)\n",
    "        plots = plots_new\n",
    "    return len(plots)"
   ]
  },
  {
   "cell_type": "code",
   "execution_count": 17,
   "id": "56edb4b8",
   "metadata": {},
   "outputs": [
    {
     "name": "stdout",
     "output_type": "stream",
     "text": [
      "Test 1: 16\n",
      "Part 1: 3729\n"
     ]
    }
   ],
   "source": [
    "print(\"Test 1:\",part1(\"examples/example21.txt\",6))\n",
    "print(\"Part 1:\",part1(\"AOC2023inputs/input21.txt\",64))"
   ]
  },
  {
   "cell_type": "code",
   "execution_count": null,
   "id": "048be78b",
   "metadata": {},
   "outputs": [],
   "source": []
  }
 ],
 "metadata": {
  "kernelspec": {
   "display_name": "Python 3 (ipykernel)",
   "language": "python",
   "name": "python3"
  },
  "language_info": {
   "codemirror_mode": {
    "name": "ipython",
    "version": 3
   },
   "file_extension": ".py",
   "mimetype": "text/x-python",
   "name": "python",
   "nbconvert_exporter": "python",
   "pygments_lexer": "ipython3",
   "version": "3.11.6"
  }
 },
 "nbformat": 4,
 "nbformat_minor": 5
}
