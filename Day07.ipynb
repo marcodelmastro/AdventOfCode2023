{
 "cells": [
  {
   "cell_type": "markdown",
   "id": "622cb451",
   "metadata": {},
   "source": [
    "## Day 7\n",
    "\n",
    "https://adventofcode.com/2023/day/7"
   ]
  },
  {
   "cell_type": "code",
   "execution_count": null,
   "id": "a4facef3",
   "metadata": {},
   "outputs": [],
   "source": [
    "def readInput07(infile):\n",
    "    with open(infile) as f:\n",
    "        return [ (h,int(v)) for h,v in [ l.split() for l in f.readlines() ] ]"
   ]
  },
  {
   "cell_type": "code",
   "execution_count": 102,
   "id": "4cd4632c",
   "metadata": {},
   "outputs": [],
   "source": [
    "from collections import Counter\n",
    "import functools\n",
    "\n",
    "points = {}\n",
    "points[(5,)]        = 7 # Five of a kind\n",
    "points[(4,1)]       = 6 # Four of a kind\n",
    "points[(3,2)]       = 5 # Full house\n",
    "points[(3,1,1)]     = 4 # Three of a kind\n",
    "points[(2,2,1)]     = 3 # Two pair\n",
    "points[(2,1,1,1)]   = 2 # One pair\n",
    "points[(1,1,1,1,1)] = 1 # High card\n",
    "\n",
    "values = {\n",
    "    \"A\": 14, \n",
    "    \"K\": 13, \n",
    "    \"Q\": 12, \n",
    "    \"J\": 11, \n",
    "    \"T\": 10, \n",
    "    \"9\": 9, \n",
    "    \"8\": 8, \n",
    "    \"7\": 7, \n",
    "    \"6\": 6, \n",
    "    \"5\": 5, \n",
    "    \"4\": 4, \n",
    "    \"3\": 3, \n",
    "    \"2\": 2\n",
    "}\n",
    "\n",
    "def useJoker(h):\n",
    "    pmax = 0\n",
    "    for v in values.keys():\n",
    "        ctest = tuple(sorted(Counter(h.replace(\"J\",v)).values(),reverse=True))\n",
    "        if points[ctest] > pmax:\n",
    "            pmax = points[ctest]\n",
    "    return pmax\n",
    "\n",
    "def compareHands(h1,h2,part=1):\n",
    "    _h1 = h1[0]\n",
    "    _h2 = h2[0]\n",
    "    p1 = 0\n",
    "    p2 = 0\n",
    "    if part==1:\n",
    "        c1 = tuple(sorted(Counter(_h1).values(),reverse=True))\n",
    "        c2 = tuple(sorted(Counter(_h2).values(),reverse=True))\n",
    "        p1 = points[c1]\n",
    "        p2 = points[c2]\n",
    "    else:\n",
    "        p1 = useJoker(_h1)\n",
    "        p2 = useJoker(_h2)\n",
    "    if p1>p2:\n",
    "        return 1\n",
    "    elif p1<p2:\n",
    "        return -1\n",
    "    else:\n",
    "        for x1,x2 in zip(_h1,_h2):\n",
    "            v1 = values[x1]\n",
    "            v2 = values[x2]\n",
    "            if part==2:\n",
    "                if x1==\"J\": v1=1\n",
    "                if x2==\"J\": v2=1\n",
    "            if v1==v2:\n",
    "                continue\n",
    "            if v1>v2:\n",
    "                return 1\n",
    "            else:\n",
    "                return -1\n",
    "    return 0\n",
    "\n",
    "def compareHandsJoker(h1,h2):\n",
    "    return compareHands(h1,h2,part=2)\n",
    "\n",
    "def solve7(infile,part=1):\n",
    "    hands = readInput07(infile)\n",
    "    if part==1:\n",
    "        return sum([(i+1)*v for i,(h,v) in enumerate(sorted(hands,key=functools.cmp_to_key(compareHands)))])\n",
    "    else:\n",
    "        return sum([(i+1)*v for i,(h,v) in enumerate(sorted(hands,key=functools.cmp_to_key(compareHandsJoker)))]) "
   ]
  },
  {
   "cell_type": "code",
   "execution_count": 103,
   "id": "27e19c43",
   "metadata": {},
   "outputs": [
    {
     "name": "stdout",
     "output_type": "stream",
     "text": [
      "Test 1: 6440\n",
      "Part 1: 248812215\n"
     ]
    }
   ],
   "source": [
    "print(\"Test 1:\",solve7(\"examples/example07.txt\",part=1))\n",
    "print(\"Part 1:\",solve7(\"AOC2023inputs/input07.txt\",part=1))"
   ]
  },
  {
   "cell_type": "code",
   "execution_count": 105,
   "id": "12638cb2",
   "metadata": {},
   "outputs": [
    {
     "name": "stdout",
     "output_type": "stream",
     "text": [
      "Test 2: 5905\n",
      "Part 2: 250057090\n"
     ]
    }
   ],
   "source": [
    "print(\"Test 2:\",solve7(\"examples/example07.txt\",part=2))\n",
    "print(\"Part 2:\",solve7(\"AOC2023inputs/input07.txt\",part=2))"
   ]
  },
  {
   "cell_type": "code",
   "execution_count": null,
   "id": "c4d5034d",
   "metadata": {},
   "outputs": [],
   "source": []
  }
 ],
 "metadata": {
  "kernelspec": {
   "display_name": "Python 3 (ipykernel)",
   "language": "python",
   "name": "python3"
  },
  "language_info": {
   "codemirror_mode": {
    "name": "ipython",
    "version": 3
   },
   "file_extension": ".py",
   "mimetype": "text/x-python",
   "name": "python",
   "nbconvert_exporter": "python",
   "pygments_lexer": "ipython3",
   "version": "3.11.6"
  }
 },
 "nbformat": 4,
 "nbformat_minor": 5
}
