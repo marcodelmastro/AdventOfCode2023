{
 "cells": [
  {
   "cell_type": "code",
   "execution_count": 1,
   "id": "85944dda",
   "metadata": {},
   "outputs": [],
   "source": [
    "infile = \"examples/example22.txt\""
   ]
  },
  {
   "cell_type": "code",
   "execution_count": 2,
   "id": "f5315ddc",
   "metadata": {},
   "outputs": [],
   "source": [
    "def readInput22(infile):\n",
    "    with open(infile) as f:\n",
    "        blocks = []\n",
    "        for l in f.read().strip().splitlines():\n",
    "            e = l.split(\"~\")\n",
    "            block = []\n",
    "            for c0,c1 in zip(e[0].split(\",\"),e[1].split(\",\")):\n",
    "                block.append(range(int(c0),int(c1)+1))\n",
    "            blocks.append(block)\n",
    "    return blocks"
   ]
  },
  {
   "cell_type": "code",
   "execution_count": 3,
   "id": "a0537500",
   "metadata": {},
   "outputs": [],
   "source": [
    "from collections import defaultdict\n",
    "\n",
    "def block_to_space(block,space,value=1):\n",
    "    rx,ry,rz = block\n",
    "    for z in rz:\n",
    "        for y in ry:\n",
    "            for x in rx:\n",
    "                space[(x,y,z)] = value\n",
    "\n",
    "def fill_space(blocks):\n",
    "    space = defaultdict(int)\n",
    "    for i,b in enumerate(blocks):\n",
    "        block_to_space(b,space,i+1)\n",
    "    return space"
   ]
  },
  {
   "cell_type": "code",
   "execution_count": 4,
   "id": "cca14413",
   "metadata": {},
   "outputs": [
    {
     "data": {
      "text/plain": [
       "defaultdict(int,\n",
       "            {(1, 0, 1): 1,\n",
       "             (1, 1, 1): 1,\n",
       "             (1, 2, 1): 1,\n",
       "             (0, 0, 2): 2,\n",
       "             (1, 0, 2): 2,\n",
       "             (2, 0, 2): 2,\n",
       "             (0, 2, 3): 3,\n",
       "             (1, 2, 3): 3,\n",
       "             (2, 2, 3): 3,\n",
       "             (0, 0, 4): 4,\n",
       "             (0, 1, 4): 4,\n",
       "             (0, 2, 4): 4,\n",
       "             (2, 0, 5): 5,\n",
       "             (2, 1, 5): 5,\n",
       "             (2, 2, 5): 5,\n",
       "             (0, 1, 6): 6,\n",
       "             (1, 1, 6): 6,\n",
       "             (2, 1, 6): 6,\n",
       "             (1, 1, 8): 7,\n",
       "             (1, 1, 9): 7})"
      ]
     },
     "execution_count": 4,
     "metadata": {},
     "output_type": "execute_result"
    }
   ],
   "source": [
    "infile = \"examples/example22.txt\"\n",
    "blocks = readInput22(infile)\n",
    "space = fill_space(blocks)\n",
    "space"
   ]
  },
  {
   "cell_type": "code",
   "execution_count": 5,
   "id": "e773b98a",
   "metadata": {},
   "outputs": [
    {
     "data": {
      "image/png": "[encoded data removed]",
      "text/plain": [
       "<Figure size 640x480 with 2 Axes>"
      ]
     },
     "metadata": {},
     "output_type": "display_data"
    }
   ],
   "source": [
    "import matplotlib.pyplot as plt\n",
    "import numpy as np\n",
    "\n",
    "def draw_projections(space,dims=(10,3)):\n",
    "    XZ = np.zeros(dims)\n",
    "    YZ = np.zeros(dims)\n",
    "    for (x,y,z),v in space.items():\n",
    "        if v:\n",
    "            XZ[z,x] = v\n",
    "            YZ[z,y] = v\n",
    "    ax1 = plt.subplot(1, 2, 1)\n",
    "    ax1.imshow(XZ,origin='lower',cmap=\"hot\")\n",
    "    ax2 = plt.subplot(1, 2, 2)\n",
    "    ax2.imshow(YZ,origin='lower',cmap=\"hot\")\n",
    "    \n",
    "draw_projections(space)"
   ]
  },
  {
   "cell_type": "code",
   "execution_count": 6,
   "id": "6801f54b",
   "metadata": {},
   "outputs": [],
   "source": [
    "def drop_blocks(blocks,space,verbose=True):\n",
    "    blocks_new = []\n",
    "    for i in range(len(blocks)):\n",
    "        if verbose: print(\"\\nBlock\",i+1,\"trying to move...\")\n",
    "        b = blocks[i]\n",
    "        while True:\n",
    "            rx,ry,rz = b\n",
    "            z0 = rz.start\n",
    "            z1 = rz.stop\n",
    "            if z0==1:\n",
    "                if verbose: print(\"Block\",i+1,\"reached floor, stopping.\")\n",
    "                blocks_new.append(b)\n",
    "                break\n",
    "            # Try to drop block\n",
    "            rznew = range(z0-1,z1-1) # new Z coordinates\n",
    "            canDrop = True\n",
    "            for z in rznew:\n",
    "                for y in ry:\n",
    "                    for x in rx:\n",
    "                        if space[(x,y,z)] and not space[(x,y,z)]==i+1: # space already occupied\n",
    "                            if verbose: print(\"Block\",i+1,\"cannot drop, stopping.\")\n",
    "                            canDrop = False\n",
    "                            break\n",
    "                    if not canDrop:\n",
    "                        break\n",
    "                if not canDrop:\n",
    "                    break\n",
    "            if not canDrop:\n",
    "                blocks_new.append(b)\n",
    "                break\n",
    "            else:\n",
    "                if verbose: print(\"Dropping...\")\n",
    "                bnew = [rx,ry,rznew]\n",
    "                block_to_space(b,space,0)\n",
    "                block_to_space(bnew,space,i+1)\n",
    "                b = bnew\n",
    "\n",
    "    return blocks_new"
   ]
  },
  {
   "cell_type": "code",
   "execution_count": 7,
   "id": "5e0428dd",
   "metadata": {},
   "outputs": [
    {
     "name": "stdout",
     "output_type": "stream",
     "text": [
      "\n",
      "Block 1 trying to move...\n",
      "Block 1 reached floor, stopping.\n",
      "\n",
      "Block 2 trying to move...\n",
      "Block 2 cannot drop, stopping.\n",
      "\n",
      "Block 3 trying to move...\n",
      "Dropping...\n",
      "Block 3 cannot drop, stopping.\n",
      "\n",
      "Block 4 trying to move...\n",
      "Dropping...\n",
      "Block 4 cannot drop, stopping.\n",
      "\n",
      "Block 5 trying to move...\n",
      "Dropping...\n",
      "Dropping...\n",
      "Block 5 cannot drop, stopping.\n",
      "\n",
      "Block 6 trying to move...\n",
      "Dropping...\n",
      "Dropping...\n",
      "Block 6 cannot drop, stopping.\n",
      "\n",
      "Block 7 trying to move...\n",
      "Dropping...\n",
      "Dropping...\n",
      "Dropping...\n",
      "Block 7 cannot drop, stopping.\n"
     ]
    }
   ],
   "source": [
    "blocks_static = drop_blocks(blocks,space)"
   ]
  },
  {
   "cell_type": "code",
   "execution_count": 8,
   "id": "f862bfdd",
   "metadata": {},
   "outputs": [
    {
     "data": {
      "image/png": "[encoded data removed]",
      "text/plain": [
       "<Figure size 640x480 with 2 Axes>"
      ]
     },
     "metadata": {},
     "output_type": "display_data"
    }
   ],
   "source": [
    "draw_projections(space,dims=(10,3))"
   ]
  },
  {
   "cell_type": "code",
   "execution_count": 9,
   "id": "dad8adfd",
   "metadata": {},
   "outputs": [],
   "source": [
    "def blocks_can_move(blocks):\n",
    "    space = fill_space(blocks)\n",
    "    for i,b in enumerate(blocks):\n",
    "        canDrop = True\n",
    "        rx,ry,rz = b\n",
    "        while True:\n",
    "            z0 = rz.start\n",
    "            z1 = rz.stop\n",
    "            if z0==1:\n",
    "                canDrop = False\n",
    "                break\n",
    "            rznew = range(z0-1,z1-1)\n",
    "            for z in rznew:\n",
    "                for y in ry:\n",
    "                    for x in rx:\n",
    "                        if space[(x,y,z)] and not space[(x,y,z)]==i+1:\n",
    "                            canDrop = False\n",
    "                            break\n",
    "                    if not canDrop:\n",
    "                        break\n",
    "                if not canDrop:\n",
    "                    break\n",
    "            if canDrop:\n",
    "                return True\n",
    "            else:\n",
    "                break\n",
    "    return False"
   ]
  },
  {
   "cell_type": "code",
   "execution_count": 10,
   "id": "1adf60bb",
   "metadata": {},
   "outputs": [
    {
     "data": {
      "text/plain": [
       "(True, False)"
      ]
     },
     "execution_count": 10,
     "metadata": {},
     "output_type": "execute_result"
    }
   ],
   "source": [
    "blocks_can_move(blocks),blocks_can_move(blocks_static),"
   ]
  },
  {
   "cell_type": "code",
   "execution_count": 15,
   "id": "9f04ae33",
   "metadata": {},
   "outputs": [],
   "source": [
    "from copy import deepcopy\n",
    "\n",
    "def part1(infile):\n",
    "    blocks = readInput22(infile)\n",
    "    space = fill_space(blocks)\n",
    "    blocks_static = drop_blocks(blocks,space,verbose=False)\n",
    "\n",
    "    can_be_disintegrated = 0\n",
    "    for i in range(len(blocks_static)):\n",
    "        blocks_test = deepcopy(blocks_static)\n",
    "        block_removed = blocks_test.pop(i)\n",
    "        can_be_disintegrated += not blocks_can_move(blocks_test)\n",
    "\n",
    "    return can_be_disintegrated"
   ]
  },
  {
   "cell_type": "code",
   "execution_count": 16,
   "id": "ef6a76dc",
   "metadata": {},
   "outputs": [
    {
     "data": {
      "text/plain": [
       "5"
      ]
     },
     "execution_count": 16,
     "metadata": {},
     "output_type": "execute_result"
    }
   ],
   "source": [
    "part1(\"examples/example22.txt\")"
   ]
  },
  {
   "cell_type": "code",
   "execution_count": 17,
   "id": "7884fe59",
   "metadata": {},
   "outputs": [
    {
     "data": {
      "text/plain": [
       "0"
      ]
     },
     "execution_count": 17,
     "metadata": {},
     "output_type": "execute_result"
    }
   ],
   "source": [
    "part1(\"AOC2023inputs/input22.txt\")"
   ]
  },
  {
   "cell_type": "code",
   "execution_count": 18,
   "id": "4efe11b1",
   "metadata": {},
   "outputs": [],
   "source": [
    "infile = \"AOC2023inputs/input22.txt\"\n",
    "blocks = readInput22(infile)\n",
    "space = fill_space(blocks)"
   ]
  },
  {
   "cell_type": "code",
   "execution_count": 23,
   "id": "9dbecc32",
   "metadata": {},
   "outputs": [
    {
     "data": {
      "image/png": "[encoded data removed]",
      "text/plain": [
       "<Figure size 640x480 with 2 Axes>"
      ]
     },
     "metadata": {},
     "output_type": "display_data"
    }
   ],
   "source": [
    "draw_projections(space,(400,10))"
   ]
  },
  {
   "cell_type": "code",
   "execution_count": null,
   "id": "f887b9f2",
   "metadata": {},
   "outputs": [],
   "source": []
  }
 ],
 "metadata": {
  "kernelspec": {
   "display_name": "Python 3 (ipykernel)",
   "language": "python",
   "name": "python3"
  },
  "language_info": {
   "codemirror_mode": {
    "name": "ipython",
    "version": 3
   },
   "file_extension": ".py",
   "mimetype": "text/x-python",
   "name": "python",
   "nbconvert_exporter": "python",
   "pygments_lexer": "ipython3",
   "version": "3.11.6"
  }
 },
 "nbformat": 4,
 "nbformat_minor": 5
}
