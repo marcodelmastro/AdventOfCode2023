{
 "cells": [
  {
   "cell_type": "markdown",
   "id": "55e20502-20c6-4a19-8858-e0107ac1865a",
   "metadata": {},
   "source": [
    "## Day 22\n",
    "\n",
    "https://adventofcode.com/2023/day/22"
   ]
  },
  {
   "cell_type": "code",
   "execution_count": 2,
   "id": "f5315ddc",
   "metadata": {},
   "outputs": [],
   "source": [
    "def readInput22(infile):\n",
    "    with open(infile) as f:\n",
    "        blocks = []\n",
    "        for l in f.read().strip().splitlines():\n",
    "            e = l.split(\"~\")\n",
    "            block = []\n",
    "            for c0,c1 in zip(e[0].split(\",\"),e[1].split(\",\")):\n",
    "                block.append(range(int(c0),int(c1)+1))\n",
    "            blocks.append(block)\n",
    "    # sort blocks according to Z position! Needed for full input!\n",
    "    blocks.sort(key=lambda x: x[2].start)\n",
    "    return blocks"
   ]
  },
  {
   "cell_type": "code",
   "execution_count": 3,
   "id": "31fc5343-6436-4954-b7ae-4a5cc71b4b97",
   "metadata": {},
   "outputs": [],
   "source": [
    "from collections import defaultdict\n",
    "\n",
    "def block_to_space(block,space,value):\n",
    "    rx, ry, rz = block\n",
    "    for z in rz:\n",
    "        for y in ry:\n",
    "            for x in rx:\n",
    "                space[(x,y,z)] = value\n",
    "\n",
    "def fill_space(blocks):\n",
    "    space = defaultdict(int)\n",
    "    for i,b in enumerate(blocks):\n",
    "        block_to_space(b,space,i+1)\n",
    "    return space"
   ]
  },
  {
   "cell_type": "code",
   "execution_count": 15,
   "id": "50cd8826-7947-4100-b4f1-751646868f7e",
   "metadata": {},
   "outputs": [
    {
     "data": {
      "text/plain": [
       "<matplotlib.image.AxesImage at 0x13fdb0450>"
      ]
     },
     "execution_count": 15,
     "metadata": {},
     "output_type": "execute_result"
    },
    {
     "data": {
      "image/png": "[encoded data removed]",
      "text/plain": [
       "<Figure size 640x480 with 2 Axes>"
      ]
     },
     "metadata": {},
     "output_type": "display_data"
    }
   ],
   "source": [
    "import matplotlib.pyplot as plt\n",
    "import numpy as np\n",
    "\n",
    "infile = \"examples/example22.txt\"\n",
    "blocks = readInput22(infile)\n",
    "space = fill_space(blocks)\n",
    "\n",
    "XZ = np.zeros((11,3))\n",
    "YZ = np.zeros((11,3))\n",
    "for (x,y,z),v in space.items():\n",
    "    XZ[z,x] = v\n",
    "    YZ[z,y] = v\n",
    "\n",
    "ax1 = plt.subplot(1, 2, 1)\n",
    "ax1.imshow(XZ,origin='lower',cmap=\"Paired\")\n",
    "\n",
    "ax2 = plt.subplot(1, 2, 2)\n",
    "ax2.imshow(YZ,origin='lower',cmap=\"Paired\")"
   ]
  },
  {
   "cell_type": "code",
   "execution_count": 16,
   "id": "6801f54b",
   "metadata": {},
   "outputs": [],
   "source": [
    "def drop_blocks(blocks,space,verbose=False):\n",
    "    \n",
    "    #blocks.sort(key=lambda x: x[2].start)\n",
    "    \n",
    "    blocksnew = []\n",
    "    supported_by = defaultdict(set)\n",
    "    \n",
    "    for i in range(len(blocks)):\n",
    "        \n",
    "        b = blocks[i]\n",
    "        if verbose:\n",
    "            print(\"Trying to drop block\",i+1,\"...\")\n",
    "\n",
    "        while True:\n",
    "            \n",
    "            rx,ry,rz = b\n",
    "            z0 = rz.start\n",
    "            z1 = rz.stop\n",
    "            \n",
    "            if z0==1:\n",
    "                if verbose:\n",
    "                    print(\"Block {} reached floor, stopping.\".format(i+1))\n",
    "                supported_by[i+1].add(0)\n",
    "                blocksnew.append(b)\n",
    "                break\n",
    "\n",
    "            \n",
    "            rznew = range(z0-1,z1-1) # new Z coordinates\n",
    "\n",
    "            # check space below block\n",
    "            z = z0-1\n",
    "            for y in ry:\n",
    "                for x in rx:\n",
    "                    if space[(x,y,z)]:\n",
    "                        supported_by[i+1].add(space[(x,y,z)])\n",
    "            \n",
    "            if len(supported_by[i+1]):\n",
    "                if verbose:\n",
    "                    print(\"Block {} is now supported by block(s) {}\".format(i+1,supported_by[i+1]))\n",
    "                blocksnew.append(b)\n",
    "                break\n",
    "            else:\n",
    "                if verbose:\n",
    "                    print(\"Dropping to Z = {}\".format(z0))\n",
    "                bnew = [rx,ry,rznew]\n",
    "                block_to_space(b,space,0)\n",
    "                block_to_space(bnew,space,i+1)\n",
    "                b = bnew\n",
    "\n",
    "    # make dictionary of block supporting something from dictiony of what supports blocks\n",
    "    supports = defaultdict(set)\n",
    "    for b,sups in supported_by.items():\n",
    "        for s in sups:\n",
    "            supports[s].add(b)\n",
    "\n",
    "\n",
    "    return blocksnew, supported_by, supports"
   ]
  },
  {
   "cell_type": "code",
   "execution_count": 17,
   "id": "5e0428dd",
   "metadata": {},
   "outputs": [
    {
     "name": "stdout",
     "output_type": "stream",
     "text": [
      "Trying to drop block 1 ...\n",
      "Block 1 reached floor, stopping.\n",
      "Trying to drop block 2 ...\n",
      "Block 2 is now supported by block(s) {1}\n",
      "Trying to drop block 3 ...\n",
      "Dropping to Z = 3\n",
      "Block 3 is now supported by block(s) {1}\n",
      "Trying to drop block 4 ...\n",
      "Dropping to Z = 4\n",
      "Block 4 is now supported by block(s) {2, 3}\n",
      "Trying to drop block 5 ...\n",
      "Dropping to Z = 5\n",
      "Dropping to Z = 4\n",
      "Block 5 is now supported by block(s) {2, 3}\n",
      "Trying to drop block 6 ...\n",
      "Dropping to Z = 6\n",
      "Dropping to Z = 5\n",
      "Block 6 is now supported by block(s) {4, 5}\n",
      "Trying to drop block 7 ...\n",
      "Dropping to Z = 8\n",
      "Dropping to Z = 7\n",
      "Dropping to Z = 6\n",
      "Block 7 is now supported by block(s) {6}\n"
     ]
    }
   ],
   "source": [
    "blocks_static, supported_by, supports = drop_blocks(blocks,space,verbose=True)"
   ]
  },
  {
   "cell_type": "code",
   "execution_count": 18,
   "id": "c94e8942-403e-40f7-9d0f-e5f2351bbfef",
   "metadata": {},
   "outputs": [
    {
     "data": {
      "text/plain": [
       "<matplotlib.image.AxesImage at 0x137953890>"
      ]
     },
     "execution_count": 18,
     "metadata": {},
     "output_type": "execute_result"
    },
    {
     "data": {
      "image/png": "[encoded data removed]",
      "text/plain": [
       "<Figure size 640x480 with 2 Axes>"
      ]
     },
     "metadata": {},
     "output_type": "display_data"
    }
   ],
   "source": [
    "space = fill_space(blocks_static)\n",
    "\n",
    "XZ = np.zeros((11,3))\n",
    "YZ = np.zeros((11,3))\n",
    "for (x,y,z),v in space.items():\n",
    "    XZ[z,x] = v\n",
    "    YZ[z,y] = v\n",
    "\n",
    "ax1 = plt.subplot(1, 2, 1)\n",
    "ax1.imshow(XZ,origin='lower',cmap=\"Paired\")\n",
    "\n",
    "ax2 = plt.subplot(1, 2, 2)\n",
    "ax2.imshow(YZ,origin='lower',cmap=\"Paired\")"
   ]
  },
  {
   "cell_type": "code",
   "execution_count": 19,
   "id": "eb773814",
   "metadata": {},
   "outputs": [],
   "source": [
    "def part1(infile):\n",
    "    \n",
    "    blocks = readInput22(infile)\n",
    "    space = fill_space(blocks)\n",
    "    blocks_static, supported_by, supports = drop_blocks(blocks,space)\n",
    "\n",
    "    # check whether a block can be safely destroyed (only if supported blocks have alternative supports)\n",
    "    can_be_destroyed = []\n",
    "    for b,s in supports.items():\n",
    "        if b==0:\n",
    "            continue\n",
    "        if all([ len(supported_by[bb])>1 for bb in s ] ):\n",
    "            can_be_destroyed.append(b)\n",
    "\n",
    "    # add blocks that do not support anythings\n",
    "    support_something = set(supports.keys())#.remove(0)\n",
    "    support_something.remove(0)\n",
    "    are_supported = set(supported_by)\n",
    "    can_be_destroyed = set(can_be_destroyed) \n",
    "    can_be_destroyed.update(are_supported - support_something)\n",
    "\n",
    "    return len(can_be_destroyed)"
   ]
  },
  {
   "cell_type": "code",
   "execution_count": 20,
   "id": "ef6a76dc",
   "metadata": {},
   "outputs": [
    {
     "name": "stdout",
     "output_type": "stream",
     "text": [
      "Test 1: 5\n",
      "Part 1: 505\n"
     ]
    }
   ],
   "source": [
    "print(\"Test 1:\",part1(\"examples/example22.txt\"))\n",
    "print(\"Part 1:\",part1(\"AOC2023inputs/input22.txt\"))"
   ]
  },
  {
   "cell_type": "code",
   "execution_count": null,
   "id": "8717477f-87ab-496d-852f-dcc583c4a115",
   "metadata": {},
   "outputs": [],
   "source": []
  }
 ],
 "metadata": {
  "kernelspec": {
   "display_name": "Python 3 (ipykernel)",
   "language": "python",
   "name": "python3"
  },
  "language_info": {
   "codemirror_mode": {
    "name": "ipython",
    "version": 3
   },
   "file_extension": ".py",
   "mimetype": "text/x-python",
   "name": "python",
   "nbconvert_exporter": "python",
   "pygments_lexer": "ipython3",
   "version": "3.11.0"
  }
 },
 "nbformat": 4,
 "nbformat_minor": 5
}
