{
 "cells": [
  {
   "cell_type": "markdown",
   "metadata": {},
   "source": [
    "## Day 23\n",
    "\n",
    "https://adventofcode.com/2023/day/23"
   ]
  },
  {
   "cell_type": "code",
   "execution_count": null,
   "metadata": {},
   "outputs": [],
   "source": [
    "def readInput23(infile):\n",
    "    with open(infile) as f:\n",
    "        return f.read().strip().splitlines()"
   ]
  },
  {
   "cell_type": "markdown",
   "metadata": {},
   "source": [
    "### Part 1\n",
    "\n",
    "BFS to map all paths and choose longest.\n",
    "\n",
    "Also implemented modification to brute-force Part 2, but I have a better idea to simplfy the search..."
   ]
  },
  {
   "cell_type": "code",
   "execution_count": 3,
   "metadata": {},
   "outputs": [],
   "source": [
    "from queue import Queue\n",
    "\n",
    "def find_max_path(grid,S=(1,0),E=(len(grid[0])-2,len(grid)-1),part=1):\n",
    "    q = Queue()\n",
    "    q.put((S,set()))\n",
    "    paths = []\n",
    "    while not q.empty():\n",
    "        p,path = q.get()\n",
    "        if p==E:\n",
    "            paths.append(len(path))\n",
    "            continue\n",
    "        x,y = p\n",
    "        dirs = [(-1,0),(+1,0),(0,-1),(0,+1)]\n",
    "        if part==1:\n",
    "            if grid[y][x]==\"v\": dirs = [(0,+1)] \n",
    "            if grid[y][x]==\"^\": dirs = [(0,-1)] \n",
    "            if grid[y][x]==\">\": dirs = [(+1,0)] \n",
    "            if grid[y][x]==\"<\": dirs = [(-1,0)] \n",
    "        for dx,dy in dirs:\n",
    "            xn,yn = (x+dx,y+dy)\n",
    "            if xn<0 or xn>=len(grid[0]) or yn<0 or yn>=len(grid):\n",
    "                continue\n",
    "            if grid[yn][xn]==\"#\":\n",
    "                continue\n",
    "            pnew = (xn,yn)\n",
    "            if pnew in path:\n",
    "                continue\n",
    "            else:\n",
    "                pathnew = set(path)\n",
    "                pathnew.add(pnew)\n",
    "                q.put((pnew,pathnew))\n",
    "    return max(paths)"
   ]
  },
  {
   "cell_type": "code",
   "execution_count": 4,
   "metadata": {},
   "outputs": [],
   "source": [
    "def part1(infile):\n",
    "    grid = readInput23(infile)\n",
    "    S = (1,0)\n",
    "    E = (len(grid[0])-2,len(grid)-1)\n",
    "    return find_max_path(grid,S,E)"
   ]
  },
  {
   "cell_type": "code",
   "execution_count": 5,
   "metadata": {},
   "outputs": [
    {
     "name": "stdout",
     "output_type": "stream",
     "text": [
      "Test 1: 94\n"
     ]
    }
   ],
   "source": [
    "print(\"Test 1:\",part1(\"examples/example23.txt\"))"
   ]
  },
  {
   "cell_type": "code",
   "execution_count": 6,
   "metadata": {},
   "outputs": [
    {
     "data": {
      "text/plain": [
       "2074"
      ]
     },
     "execution_count": 6,
     "metadata": {},
     "output_type": "execute_result"
    }
   ],
   "source": [
    "part1(\"examples/input23.txt\")"
   ]
  },
  {
   "cell_type": "markdown",
   "metadata": {},
   "source": [
    "### Part 2\n",
    "\n",
    "Mapping all the junction nodes, their connection and their distances to simplify the problem, then using `NetworkX` to find all path in the reduced graph:"
   ]
  },
  {
   "cell_type": "code",
   "execution_count": 49,
   "metadata": {},
   "outputs": [],
   "source": [
    "from queue import Queue\n",
    "\n",
    "def map_nodes(grid):\n",
    "    # find nodes in grid\n",
    "    nodes = [(1,0),(len(grid[0])-2,len(grid)-1)]\n",
    "    for x in range(1,len(grid[0])-1):\n",
    "        for y in range(1,len(grid)-1):\n",
    "            if grid[y][x]!=\"#\":\n",
    "                n = [(x+dx,y+dy) for dx,dy in [(-1,0),(+1,0),(0,-1),(0,+1)] if grid[y+dy][x+dx]!=\"#\"]\n",
    "                if len(n)>2:\n",
    "                    nodes.append((x,y))\n",
    "    # map connections and distances between nodes\n",
    "    nodemap = {}\n",
    "    for n in nodes:\n",
    "        paths = {}\n",
    "        q = Queue()\n",
    "        q.put((n,{n}))\n",
    "        while not q.empty():\n",
    "            p,path = q.get()\n",
    "            if p!=n and p in nodes and len(path):\n",
    "                paths[p] = len(path)-1\n",
    "                continue\n",
    "            x,y = p\n",
    "            for dx,dy in [(-1,0),(+1,0),(0,-1),(0,+1)]:\n",
    "                xn,yn = (x+dx,y+dy)\n",
    "                if xn<0 or xn>=len(grid[0]) or yn<0 or yn>=len(grid):\n",
    "                    continue\n",
    "                if grid[yn][xn]==\"#\":\n",
    "                    continue\n",
    "                pnew = (xn,yn)\n",
    "                if pnew in path:\n",
    "                    continue\n",
    "                else:\n",
    "                    pathnew = set(path)\n",
    "                    pathnew.add(pnew)\n",
    "                    q.put((pnew,pathnew))\n",
    "        nodemap[n] = paths\n",
    "    return nodemap"
   ]
  },
  {
   "cell_type": "code",
   "execution_count": 79,
   "metadata": {},
   "outputs": [],
   "source": [
    "# Using NetworkX to solve the graph, looking for all simple paths from S to E and compting their lenghts"
   ]
  },
  {
   "cell_type": "code",
   "execution_count": 75,
   "metadata": {},
   "outputs": [],
   "source": [
    "import networkx as nx\n",
    "\n",
    "def part2(infile):\n",
    "    grid = readInput23(infile)\n",
    "    S = (1,0)\n",
    "    E = (len(grid[0])-2,len(grid)-1)\n",
    "    nodemap = map_nodes(grid)\n",
    "    G = nx.Graph()\n",
    "    for n,c in nodemap.items():\n",
    "        for m,d in c.items():\n",
    "            G.add_edge(n,m,weight=d)\n",
    "    paths = []\n",
    "    for p in nx.all_simple_paths(G,S,E):\n",
    "        l = sum([ nodemap[p[i]][p[i-1]] for i in range (1,len(p)) ])\n",
    "        paths.append(l)\n",
    "    return max(paths)"
   ]
  },
  {
   "cell_type": "code",
   "execution_count": 76,
   "metadata": {},
   "outputs": [
    {
     "data": {
      "text/plain": [
       "154"
      ]
     },
     "execution_count": 76,
     "metadata": {},
     "output_type": "execute_result"
    }
   ],
   "source": [
    "part2(\"examples/example23.txt\")"
   ]
  },
  {
   "cell_type": "code",
   "execution_count": 77,
   "metadata": {},
   "outputs": [
    {
     "data": {
      "text/plain": [
       "6494"
      ]
     },
     "execution_count": 77,
     "metadata": {},
     "output_type": "execute_result"
    }
   ],
   "source": [
    "part2(\"examples/input23.txt\")"
   ]
  },
  {
   "cell_type": "code",
   "execution_count": null,
   "metadata": {},
   "outputs": [],
   "source": []
  }
 ],
 "metadata": {
  "kernelspec": {
   "display_name": "Python 3 (ipykernel)",
   "language": "python",
   "name": "python3"
  },
  "language_info": {
   "codemirror_mode": {
    "name": "ipython",
    "version": 3
   },
   "file_extension": ".py",
   "mimetype": "text/x-python",
   "name": "python",
   "nbconvert_exporter": "python",
   "pygments_lexer": "ipython3",
   "version": "3.11.0"
  }
 },
 "nbformat": 4,
 "nbformat_minor": 4
}
