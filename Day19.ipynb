{
 "cells": [
  {
   "cell_type": "markdown",
   "id": "9055f47f",
   "metadata": {},
   "source": [
    "## Day 19\n",
    "\n"
   ]
  },
  {
   "cell_type": "code",
   "execution_count": 52,
   "id": "64019335",
   "metadata": {},
   "outputs": [],
   "source": [
    "import re\n",
    "\n",
    "def readInput19(infile):\n",
    "    with open(infile) as f:\n",
    "        o = f.read().strip().split(\"\\n\\n\")\n",
    "        workflows = {}\n",
    "        for w in o[0].split(\"\\n\"):\n",
    "            k = w.strip(\"}\").split(\"{\")\n",
    "            workflows[k[0]] = tuple([ tuple(c.split(\":\")) for c in k[1].split(\",\") ])        \n",
    "        ratings = [ tuple([int(x) for x in re.findall(\"\\d+\",r)]) for r in o[1].split() ]\n",
    "        return workflows, ratings\n",
    "\n",
    "def process_workflow(r,w):\n",
    "    x,m,a,s = r\n",
    "    for rule in w:\n",
    "        if len(rule)==1:\n",
    "            return rule[0]\n",
    "        else:\n",
    "            if eval(rule[0]):\n",
    "                return rule[1]\n",
    "        \n",
    "def evaluate_rating(r,workflows):\n",
    "    w = \"in\"\n",
    "    while True:\n",
    "        w = process_workflow(r,workflows[w])\n",
    "        if w==\"A\":\n",
    "            return True\n",
    "        if w==\"R\":\n",
    "            return False\n",
    "\n",
    "def part1(infile):\n",
    "    workflows, ratings = readInput19(infile)\n",
    "    return sum( [ sum(r) for r in ratings if evaluate_rating(r,workflows) ] )"
   ]
  },
  {
   "cell_type": "code",
   "execution_count": 55,
   "id": "70f23d8b",
   "metadata": {},
   "outputs": [
    {
     "name": "stdout",
     "output_type": "stream",
     "text": [
      "Test 1: 19114\n",
      "Part 1: 434147\n"
     ]
    }
   ],
   "source": [
    "print(\"Test 1:\",part1(\"examples/example19.txt\"))\n",
    "print(\"Part 1:\",part1(\"AOC2023inputs/input19.txt\"))"
   ]
  },
  {
   "cell_type": "code",
   "execution_count": null,
   "id": "03671a63",
   "metadata": {},
   "outputs": [],
   "source": []
  }
 ],
 "metadata": {
  "kernelspec": {
   "display_name": "Python 3 (ipykernel)",
   "language": "python",
   "name": "python3"
  },
  "language_info": {
   "codemirror_mode": {
    "name": "ipython",
    "version": 3
   },
   "file_extension": ".py",
   "mimetype": "text/x-python",
   "name": "python",
   "nbconvert_exporter": "python",
   "pygments_lexer": "ipython3",
   "version": "3.11.6"
  }
 },
 "nbformat": 4,
 "nbformat_minor": 5
}
