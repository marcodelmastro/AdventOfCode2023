{
 "cells": [
  {
   "cell_type": "markdown",
   "id": "8df497e3",
   "metadata": {},
   "source": [
    "## Day 19\n",
    "\n"
   ]
  },
  {
   "cell_type": "code",
   "execution_count": 138,
   "id": "c4dfeb69",
   "metadata": {},
   "outputs": [],
   "source": [
    "import re\n",
    "\n",
    "def readInput19(infile):\n",
    "    with open(infile) as f:\n",
    "        o = f.read().strip().split(\"\\n\\n\")\n",
    "        workflows = {}\n",
    "        for w in o[0].split(\"\\n\"):\n",
    "            k = w.strip(\"}\").split(\"{\")\n",
    "            workflows[k[0]] = tuple([ tuple(c.split(\":\")) for c in k[1].split(\",\") ])        \n",
    "        ratings = [ tuple([int(x) for x in re.findall(\"\\d+\",r)]) for r in o[1].split() ]\n",
    "        return workflows, ratings"
   ]
  },
  {
   "cell_type": "markdown",
   "id": "f1efdb57",
   "metadata": {},
   "source": [
    "### Part 1"
   ]
  },
  {
   "cell_type": "code",
   "execution_count": 139,
   "id": "befa5be5",
   "metadata": {},
   "outputs": [],
   "source": [
    "def process_workflow(r,w):\n",
    "    x,m,a,s = r\n",
    "    for rule in w:\n",
    "        if len(rule)==1:\n",
    "            return rule[0]\n",
    "        else:\n",
    "            if eval(rule[0]):\n",
    "                return rule[1]\n",
    "        \n",
    "def evaluate_rating(r,workflows):\n",
    "    w = \"in\"\n",
    "    while True:\n",
    "        w = process_workflow(r,workflows[w])\n",
    "        if w==\"A\":\n",
    "            return True\n",
    "        if w==\"R\":\n",
    "            return False\n",
    "\n",
    "def part1(infile):\n",
    "    workflows, ratings = readInput19(infile)\n",
    "    return sum( [ sum(r) for r in ratings if evaluate_rating(r,workflows) ] )"
   ]
  },
  {
   "cell_type": "code",
   "execution_count": 140,
   "id": "95f77e63",
   "metadata": {},
   "outputs": [
    {
     "name": "stdout",
     "output_type": "stream",
     "text": [
      "Test 1: 19114\n",
      "Part 1: 434147\n"
     ]
    }
   ],
   "source": [
    "print(\"Test 1:\",part1(\"examples/example19.txt\"))\n",
    "print(\"Part 1:\",part1(\"AOC2023inputs/input19.txt\"))"
   ]
  },
  {
   "cell_type": "markdown",
   "id": "bc044b06",
   "metadata": {},
   "source": [
    "### Part 2\n",
    "\n",
    "Counting possible success path in recursive way, starting from the full (0,4000) interval and reducing them according to the workflow rules.\n",
    "\n",
    "Intervals are stored as the `tuple` of (beginning, end) in a dictionary with keys = `['x','m','a','s']`."
   ]
  },
  {
   "cell_type": "code",
   "execution_count": 226,
   "id": "5442609e",
   "metadata": {},
   "outputs": [],
   "source": [
    "def count_ratings(workflows,intervals,goal=\"in\"):\n",
    "    # in case the outcome is R, no rating combinatoion is valid\n",
    "    if goal==\"R\":\n",
    "        return 0\n",
    "    \n",
    "    # in case the outcome is A, the number of combinations is the production of the intervals\n",
    "    if goal==\"A\":\n",
    "        prod = 1\n",
    "        for x,(b,e) in intervals.items():\n",
    "            prod *= (e-b)+1\n",
    "        return prod\n",
    "    \n",
    "    # otherwise, process rules recursively changing the interval accordingly\n",
    "    rules = workflows[goal]\n",
    "    fallback = rules[-1][0] # last item of rules, contain a fallback direction without conditions\n",
    "\n",
    "    count = 0\n",
    "    \n",
    "    processFallback = True\n",
    "    \n",
    "    for rule,target in rules[:-1]: # loop on all the rules in current workflow excluding fallback\n",
    "        var = rule[0]\n",
    "        op  = rule[1]\n",
    "        val = int(rule[2:])\n",
    "        \n",
    "        # current interval for variable concerned by workflow rule\n",
    "        beg, end = intervals[var]\n",
    "        \n",
    "        # split the current interval in Pass and Fail intervals according to the current rule\n",
    "        if op == \"<\":\n",
    "            Pass = (beg, val-1)\n",
    "            Fail = (val, end)\n",
    "        else:\n",
    "            Pass = (val+1, end)\n",
    "            Fail = (beg, val)\n",
    "        \n",
    "        # process Pass and Fail intervals to check whether one of them is empty\n",
    "        if Pass[0] <= Pass[1]: # not empty, pass it recursively\n",
    "            intervals_new = dict(intervals) # copy interval dictionary\n",
    "            intervals_new[var] = Pass # update copy\n",
    "            count += count_ratings(workflows,intervals_new,target)\n",
    "        if Fail[0] <= Fail[1]: # not empty, update the interval dictionary and move to next rule in for loop\n",
    "            intervals = dict(intervals) # copy interval dictionary \n",
    "            intervals[var] = Fail\n",
    "        else: # if the Fail interval is empty, the Pass interval covered all possibilities, \n",
    "              # so no need to process the next rules, can break the for loop\n",
    "            processFallback = False # if loop broken, no need to process fallback\n",
    "            break\n",
    "    \n",
    "    if processFallback:\n",
    "        # count toward fallback using interval dictionlay as modified by rule processing loop\n",
    "        # what handling the Fail intervals\n",
    "        count += count_ratings(workflows,intervals, fallback) \n",
    "    \n",
    "    return count"
   ]
  },
  {
   "cell_type": "code",
   "execution_count": 227,
   "id": "9673aa85",
   "metadata": {},
   "outputs": [],
   "source": [
    "def part2(infile):\n",
    "    workflows, ratings = readInput19(infile)\n",
    "    intervals = { \"x\": (1,4000), \"m\": (1,4000), \"a\": (1,4000), \"s\": (1,4000) }\n",
    "    return count_ratings(workflows,intervals)"
   ]
  },
  {
   "cell_type": "code",
   "execution_count": 230,
   "id": "8e1d9871",
   "metadata": {},
   "outputs": [
    {
     "name": "stdout",
     "output_type": "stream",
     "text": [
      "Test 2: 167409079868000\n",
      "Part 2: 136146366355609\n"
     ]
    }
   ],
   "source": [
    "print(\"Test 2:\",part2(\"examples/example19.txt\"))\n",
    "print(\"Part 2:\",part2(\"AOC2023inputs/input19.txt\"))"
   ]
  },
  {
   "cell_type": "code",
   "execution_count": null,
   "id": "7267276e",
   "metadata": {},
   "outputs": [],
   "source": []
  }
 ],
 "metadata": {
  "kernelspec": {
   "display_name": "Python 3 (ipykernel)",
   "language": "python",
   "name": "python3"
  },
  "language_info": {
   "codemirror_mode": {
    "name": "ipython",
    "version": 3
   },
   "file_extension": ".py",
   "mimetype": "text/x-python",
   "name": "python",
   "nbconvert_exporter": "python",
   "pygments_lexer": "ipython3",
   "version": "3.11.6"
  }
 },
 "nbformat": 4,
 "nbformat_minor": 5
}
