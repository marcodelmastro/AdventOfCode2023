{
 "cells": [
  {
   "cell_type": "markdown",
   "id": "efe8a252",
   "metadata": {},
   "source": [
    "## Day 15\n",
    "\n",
    "https://adventofcode.com/2023/day/15"
   ]
  },
  {
   "cell_type": "code",
   "execution_count": 106,
   "id": "2c9fffb3",
   "metadata": {},
   "outputs": [],
   "source": [
    "cache = {}\n",
    "\n",
    "def HASH(s):\n",
    "    if s in cache.keys():\n",
    "        return cache[s]\n",
    "    h = 0\n",
    "    for c in s:\n",
    "        h += ord(c)\n",
    "        h *= 17\n",
    "        h %= 256\n",
    "    cache[s] = h\n",
    "    return h\n",
    "\n",
    "def part1(infile):\n",
    "    with open(infile) as f:\n",
    "        sequence = f.read().strip(\"\\n\").split(\",\")\n",
    "        total = 0\n",
    "        for s in sequence:\n",
    "            total += HASH(s)\n",
    "        return total"
   ]
  },
  {
   "cell_type": "code",
   "execution_count": 107,
   "id": "f46c9485",
   "metadata": {},
   "outputs": [
    {
     "name": "stdout",
     "output_type": "stream",
     "text": [
      "Test 1: 1320\n",
      "Part 1: 515495\n"
     ]
    }
   ],
   "source": [
    "print(\"Test 1:\",part1(\"examples/example15.txt\"))\n",
    "print(\"Part 1:\",part1(\"AOC2023inputs/input15.txt\"))"
   ]
  },
  {
   "cell_type": "code",
   "execution_count": 108,
   "id": "80bc3e92",
   "metadata": {},
   "outputs": [],
   "source": [
    "def part2(infile):\n",
    "    box = [ [] for _ in range(256) ]\n",
    "    with open(infile) as f:\n",
    "        sequence = f.read().strip(\"\\n\").split(\",\")\n",
    "        for s in sequence:\n",
    "            if s[-1]==\"-\":\n",
    "                b = HASH(s[:-1])\n",
    "                j = -1\n",
    "                for i,lens in enumerate(box[b]):\n",
    "                    label,focus = lens\n",
    "                    if label==s[:-1]:\n",
    "                        j = i\n",
    "                        break\n",
    "                if j!=-1:\n",
    "                    box[b].pop(j)\n",
    "            else:\n",
    "                b = HASH(s[:-2])\n",
    "                focusnew = int(s[-1])\n",
    "                j = -1\n",
    "                for i,lens in enumerate(box[b]):\n",
    "                    label,focus = lens\n",
    "                    if label==s[:-2]:\n",
    "                        j = i\n",
    "                        break\n",
    "                if j!=-1:\n",
    "                    box[b][j] = (s[:-2],focusnew)\n",
    "                else:\n",
    "                    box[b].append((s[:-2],focusnew))\n",
    "    total = 0\n",
    "    for i,b in enumerate(box):\n",
    "        for j,lens in enumerate(b):\n",
    "            label,focus = lens\n",
    "            power = (i+1)*(j+1)*focus\n",
    "            total += power\n",
    "    return total"
   ]
  },
  {
   "cell_type": "code",
   "execution_count": 109,
   "id": "98573d10",
   "metadata": {},
   "outputs": [
    {
     "name": "stdout",
     "output_type": "stream",
     "text": [
      "Test 2: 145\n",
      "Part 2: 229349\n"
     ]
    }
   ],
   "source": [
    "print(\"Test 2:\",part2(\"examples/example15.txt\"))\n",
    "print(\"Part 2:\",part2(\"AOC2023inputs/input15.txt\"))"
   ]
  },
  {
   "cell_type": "code",
   "execution_count": null,
   "id": "2cc06144",
   "metadata": {},
   "outputs": [],
   "source": []
  }
 ],
 "metadata": {
  "kernelspec": {
   "display_name": "Python 3 (ipykernel)",
   "language": "python",
   "name": "python3"
  },
  "language_info": {
   "codemirror_mode": {
    "name": "ipython",
    "version": 3
   },
   "file_extension": ".py",
   "mimetype": "text/x-python",
   "name": "python",
   "nbconvert_exporter": "python",
   "pygments_lexer": "ipython3",
   "version": "3.11.6"
  }
 },
 "nbformat": 4,
 "nbformat_minor": 5
}
